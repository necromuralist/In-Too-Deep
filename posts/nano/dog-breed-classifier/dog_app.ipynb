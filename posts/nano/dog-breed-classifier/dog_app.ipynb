{
 "cells": [
  {
   "cell_type": "markdown",
   "metadata": {
    "ein.tags": "worksheet-0",
    "slideshow": {
     "slide_type": "-"
    }
   },
   "source": [
    "# Convolutional Neural Networks\n",
    "\n",
    "## Project: Write an Algorithm for a Dog Identification App \n",
    "\n",
    "---\n",
    "\n",
    "In this notebook, some template code has already been provided for you, and you will need to implement additional functionality to successfully complete this project. You will not need to modify the included code beyond what is requested. Sections that begin with **'(IMPLEMENTATION)'** in the header indicate that the following block of code will require additional functionality which you must provide. Instructions will be provided for each section, and the specifics of the implementation are marked in the code block with a 'TODO' statement. Please be sure to read the instructions carefully! \n",
    "\n",
    "> **Note**: Once you have completed all of the code implementations, you need to finalize your work by exporting the Jupyter Notebook as an HTML document. Before exporting the notebook to html, all of the code cells need to have been run so that reviewers can see the final implementation and output. You can then export the notebook by using the menu above and navigating to **File -> Download as -> HTML (.html)**. Include the finished document along with this notebook as your submission.\n",
    "\n",
    "In addition to implementing code, there will be questions that you must answer which relate to the project and your implementation. Each section where you will answer a question is preceded by a **'Question X'** header. Carefully read each question and provide thorough answers in the following text boxes that begin with **'Answer:'**. Your project submission will be evaluated based on your answers to each of the questions and the implementation you provide.\n",
    "\n",
    ">**Note:** Code and Markdown cells can be executed using the **Shift + Enter** keyboard shortcut.  Markdown cells can be edited by double-clicking the cell to enter edit mode.\n",
    "\n",
    "The rubric contains _optional_ \"Stand Out Suggestions\" for enhancing the project beyond the minimum requirements. If you decide to pursue the \"Stand Out Suggestions\", you should include the code in this Jupyter notebook.\n",
    "\n",
    "\n",
    "\n",
    "---\n",
    "### Why We're Here \n",
    "\n",
    "In this notebook, you will make the first steps towards developing an algorithm that could be used as part of a mobile or web app.  At the end of this project, your code will accept any user-supplied image as input.  If a dog is detected in the image, it will provide an estimate of the dog's breed.  If a human is detected, it will provide an estimate of the dog breed that is most resembling.  The image below displays potential sample output of your finished project (... but we expect that each student's algorithm will behave differently!). \n",
    "\n",
    "![Sample Dog Output](images/sample_dog_output.png)\n",
    "\n",
    "In this real-world setting, you will need to piece together a series of models to perform different tasks; for instance, the algorithm that detects humans in an image will be different from the CNN that infers dog breed.  There are many points of possible failure, and no perfect algorithm exists.  Your imperfect solution will nonetheless create a fun user experience!\n",
    "\n",
    "### The Road Ahead\n",
    "\n",
    "We break the notebook into separate steps.  Feel free to use the links below to navigate the notebook.\n",
    "\n",
    "* [Step 0](#step0): Import Datasets\n",
    "* [Step 1](#step1): Detect Humans\n",
    "* [Step 2](#step2): Detect Dogs\n",
    "* [Step 3](#step3): Create a CNN to Classify Dog Breeds (from Scratch)\n",
    "* [Step 4](#step4): Create a CNN to Classify Dog Breeds (using Transfer Learning)\n",
    "* [Step 5](#step5): Write your Algorithm\n",
    "* [Step 6](#step6): Test Your Algorithm\n",
    "\n",
    "---\n",
    "<a id='step0'></a>\n",
    "## Step 0: Import Datasets\n",
    "\n",
    "Make sure that you've downloaded the required human and dog datasets:\n",
    "* Download the [dog dataset](https://s3-us-west-1.amazonaws.com/udacity-aind/dog-project/dogImages.zip).  Unzip the folder and place it in this project's home directory, at the location `/dogImages`. \n",
    "\n",
    "* Download the [human dataset](https://s3-us-west-1.amazonaws.com/udacity-aind/dog-project/lfw.zip).  Unzip the folder and place it in the home directory, at location `/lfw`.  \n",
    "\n",
    "*Note: If you are using a Windows machine, you are encouraged to use [7zip](http://www.7-zip.org/) to extract the folder.*\n",
    "\n",
    "In the code cell below, we save the file paths for both the human (LFW) dataset and dog dataset in the numpy arrays `human_files` and `dog_files`."
   ]
  },
  {
   "cell_type": "markdown",
   "metadata": {
    "ein.tags": "worksheet-0",
    "slideshow": {
     "slide_type": "-"
    }
   },
   "source": [
    "The original notebook had the imports and set-up for plotting scattered around the notebook, but since there's so many different parts to work on it made it difficult to hunt them all down whenever I restarted the notebook so I've moved them here, but left the original imports in place (or nearly so)."
   ]
  },
  {
   "cell_type": "markdown",
   "metadata": {
    "ein.tags": "worksheet-0",
    "slideshow": {
     "slide_type": "-"
    }
   },
   "source": [
    "## Imports"
   ]
  },
  {
   "cell_type": "code",
   "execution_count": 1,
   "metadata": {
    "autoscroll": false,
    "ein.hycell": false,
    "ein.tags": "worksheet-0",
    "slideshow": {
     "slide_type": "-"
    }
   },
   "outputs": [],
   "source": [
    "# python\n",
    "from datetime import datetime\n",
    "from functools import partial\n",
    "from pathlib import Path\n",
    "import warnings\n",
    "\n",
    "# from pypi\n",
    "from PIL import Image, ImageFile\n",
    "from torchvision import datasets\n",
    "import matplotlib\n",
    "warnings.filterwarnings(\"ignore\", category=matplotlib.cbook.mplDeprecation)\n",
    "import cv2\n",
    "import face_recognition\n",
    "import matplotlib.image as matplotlib_image\n",
    "import matplotlib.patches as patches\n",
    "import matplotlib.pyplot as plt\n",
    "import numpy as np\n",
    "import seaborn\n",
    "import torch\n",
    "import torch.nn as nn\n",
    "import torch.nn.functional as F\n",
    "import torch.optim as optimizer\n",
    "import torchvision.models as models\n",
    "import torchvision.transforms as transforms"
   ]
  },
  {
   "cell_type": "markdown",
   "metadata": {
    "ein.tags": "worksheet-0",
    "slideshow": {
     "slide_type": "-"
    }
   },
   "source": [
    "I tend to use the full names, but the included code uses the common practice (just not mine) of shortening `numpy` and `pyplot` so I'm going to alias them to cut down on the `NameError`s."
   ]
  },
  {
   "cell_type": "code",
   "execution_count": 2,
   "metadata": {
    "autoscroll": false,
    "ein.hycell": false,
    "ein.tags": "worksheet-0",
    "slideshow": {
     "slide_type": "-"
    }
   },
   "outputs": [],
   "source": [
    "pyplot = plt\n",
    "numpy = np"
   ]
  },
  {
   "cell_type": "markdown",
   "metadata": {
    "ein.tags": "worksheet-0",
    "slideshow": {
     "slide_type": "-"
    }
   },
   "source": [
    "### Set Up the Plotting"
   ]
  },
  {
   "cell_type": "code",
   "execution_count": 3,
   "metadata": {
    "autoscroll": false,
    "ein.hycell": false,
    "ein.tags": "worksheet-0",
    "slideshow": {
     "slide_type": "-"
    }
   },
   "outputs": [],
   "source": [
    "get_ipython().run_line_magic('matplotlib', 'inline')\n",
    "get_ipython().run_line_magic('config', \"InlineBackend.figure_format = 'retina'\")\n",
    "seaborn.set(style=\"whitegrid\",\n",
    "            rc={\"axes.grid\": False,\n",
    "                \"font.family\": [\"sans-serif\"],\n",
    "                \"font.sans-serif\": [\"Open Sans\", \"Latin Modern Sans\", \"Lato\"],\n",
    "                \"figure.figsize\": (8, 6)},\n",
    "            font_scale=1)"
   ]
  },
  {
   "cell_type": "markdown",
   "metadata": {
    "ein.tags": "worksheet-0",
    "slideshow": {
     "slide_type": "-"
    }
   },
   "source": [
    "## Constants"
   ]
  },
  {
   "cell_type": "code",
   "execution_count": 4,
   "metadata": {
    "autoscroll": false,
    "ein.hycell": false,
    "ein.tags": "worksheet-0",
    "slideshow": {
     "slide_type": "-"
    }
   },
   "outputs": [],
   "source": [
    "INCEPTION_IMAGE_SIZE = 299\n",
    "SCRATCH_IMAGE_SIZE = INCEPTION_IMAGE_SIZE\n",
    "VGG_IMAGE_SIZE = 224\n",
    "\n",
    "MEANS = [0.485, 0.456, 0.406]\n",
    "DEVIATIONS = [0.229, 0.224, 0.225]\n",
    "DOG_LOWER, DOG_UPPER = 150, 260"
   ]
  },
  {
   "cell_type": "markdown",
   "metadata": {
    "ein.tags": "worksheet-0",
    "slideshow": {
     "slide_type": "-"
    }
   },
   "source": [
    "Load filenames for human and dog images."
   ]
  },
  {
   "cell_type": "code",
   "execution_count": 5,
   "metadata": {
    "autoscroll": false,
    "ein.hycell": false,
    "ein.tags": "worksheet-0",
    "slideshow": {
     "slide_type": "-"
    }
   },
   "outputs": [],
   "source": [
    "ROOT_PATH = Path(\"~/datasets/dog-breed-classification/\").expanduser()\n",
    "HUMAN_PATH = ROOT_PATH.joinpath(\"lfw\")\n",
    "DOG_PATH = ROOT_PATH.joinpath(\"dogImages\")\n",
    "MODEL_PATH = Path(\"~/models/dog-breed-classification\").expanduser()\n",
    "\n",
    "assert HUMAN_PATH.is_dir()\n",
    "assert DOG_PATH.is_dir()\n",
    "assert MODEL_PATH.is_dir()"
   ]
  },
  {
   "cell_type": "markdown",
   "metadata": {
    "ein.tags": "worksheet-0",
    "slideshow": {
     "slide_type": "-"
    }
   },
   "source": [
    "The `MODELS` is a place to store things that have been moved to the GPU so I can off-load them if needed."
   ]
  },
  {
   "cell_type": "code",
   "execution_count": 6,
   "metadata": {
    "autoscroll": false,
    "ein.hycell": false,
    "ein.tags": "worksheet-0",
    "slideshow": {
     "slide_type": "-"
    }
   },
   "outputs": [],
   "source": [
    "MODELS = []"
   ]
  },
  {
   "cell_type": "markdown",
   "metadata": {
    "ein.tags": "worksheet-0",
    "slideshow": {
     "slide_type": "-"
    }
   },
   "source": [
    "## Check CUDA"
   ]
  },
  {
   "cell_type": "code",
   "execution_count": 7,
   "metadata": {
    "autoscroll": false,
    "ein.hycell": false,
    "ein.tags": "worksheet-0",
    "slideshow": {
     "slide_type": "-"
    }
   },
   "outputs": [
    {
     "name": "stdout",
     "output_type": "stream",
     "text": [
      "Using cuda\n"
     ]
    }
   ],
   "source": [
    "use_cuda = torch.cuda.is_available()\n",
    "device = torch.device(\"cuda\" if use_cuda else \"cpu\")\n",
    "print(\"Using {}\".format(device))"
   ]
  },
  {
   "cell_type": "markdown",
   "metadata": {
    "ein.tags": "worksheet-0",
    "slideshow": {
     "slide_type": "-"
    }
   },
   "source": [
    "## Handle Truncated Images"
   ]
  },
  {
   "cell_type": "code",
   "execution_count": 8,
   "metadata": {
    "autoscroll": false,
    "ein.hycell": false,
    "ein.tags": "worksheet-0",
    "slideshow": {
     "slide_type": "-"
    }
   },
   "outputs": [],
   "source": [
    "ImageFile.LOAD_TRUNCATED_IMAGES = True"
   ]
  },
  {
   "cell_type": "code",
   "execution_count": 9,
   "metadata": {
    "autoscroll": false,
    "ein.hycell": false,
    "ein.tags": "worksheet-0",
    "slideshow": {
     "slide_type": "-"
    }
   },
   "outputs": [
    {
     "name": "stdout",
     "output_type": "stream",
     "text": [
      "There are 13,233 total human images.\n",
      "There are 8,351 total dog images.\n"
     ]
    }
   ],
   "source": [
    "human_files = np.array(list(HUMAN_PATH.glob(\"*/*\")))\n",
    "dog_files = np.array(list(DOG_PATH.glob(\"*/*/*\")))\n",
    "\n",
    "assert len(human_files) > 0\n",
    "assert len(dog_files) > 0\n",
    "\n",
    "# print number of images in each dataset\n",
    "print('There are {:,} total human images.'.format(len(human_files)))\n",
    "print('There are {:,} total dog images.'.format(len(dog_files)))"
   ]
  },
  {
   "cell_type": "markdown",
   "metadata": {
    "ein.tags": "worksheet-0",
    "slideshow": {
     "slide_type": "-"
    }
   },
   "source": [
    "<a id='step1'></a>\n",
    "## Step 1: Detect Humans\n",
    "\n",
    "In this section, we use OpenCV's implementation of [Haar feature-based cascade classifiers](http://docs.opencv.org/trunk/d7/d8b/tutorial_py_face_detection.html) to detect human faces in images.  \n",
    "\n",
    "OpenCV provides many pre-trained face detectors, stored as XML files on [github](https://github.com/opencv/opencv/tree/master/data/haarcascades).  We have downloaded one of these detectors and stored it in the `haarcascades` directory.  In the next code cell, we demonstrate how to use this detector to find human faces in a sample image."
   ]
  },
  {
   "cell_type": "code",
   "execution_count": 19,
   "metadata": {
    "autoscroll": false,
    "ein.hycell": false,
    "ein.tags": "worksheet-0",
    "slideshow": {
     "slide_type": "-"
    }
   },
   "outputs": [
    {
     "name": "stdout",
     "output_type": "stream",
     "text": [
      "Number of faces detected: 1\n"
     ]
    },
    {
     "data": {
      "image/png": "[encoded data removed]",
      "text/plain": [
       "<Figure size 576x432 with 1 Axes>"
      ]
     },
     "metadata": {},
     "output_type": "display_data"
    }
   ],
   "source": [
    "import cv2\n",
    "import warnings\n",
    "import matplotlib\n",
    "warnings.filterwarnings(\"ignore\", category=matplotlib.cbook.mplDeprecation)\n",
    "import matplotlib.pyplot as plt\n",
    "\n",
    "# extract pre-trained face detector\n",
    "haar_path = ROOT_PATH.joinpath('haarcascades/haarcascade_frontalface_alt.xml')\n",
    "assert haar_path.is_file()\n",
    "face_cascade = cv2.CascadeClassifier(str(haar_path))\n",
    "\n",
    "# load color (BGR) image\n",
    "img = cv2.imread(str(human_files[0]))\n",
    "# convert BGR image to grayscale\n",
    "gray = cv2.cvtColor(img, cv2.COLOR_BGR2GRAY)\n",
    "\n",
    "# find faces in image\n",
    "faces = face_cascade.detectMultiScale(gray)\n",
    "\n",
    "# print number of faces detected in the image\n",
    "print('Number of faces detected:', len(faces))\n",
    "\n",
    "# get bounding box for each detected face\n",
    "for (x,y,w,h) in faces:\n",
    "    # add bounding box to color image\n",
    "    cv2.rectangle(img,(x,y),(x+w,y+h),(255,0,0),2)\n",
    "    \n",
    "# convert BGR image to RGB for plotting\n",
    "cv_rgb = cv2.cvtColor(img, cv2.COLOR_BGR2RGB)\n",
    "\n",
    "# display the image, along with bounding box\n",
    "plt.imshow(cv_rgb)\n",
    "plt.show()"
   ]
  },
  {
   "cell_type": "markdown",
   "metadata": {
    "ein.tags": "worksheet-0",
    "slideshow": {
     "slide_type": "-"
    }
   },
   "source": [
    "Before using any of the face detectors, it is standard procedure to convert the images to grayscale.  The `detectMultiScale` function executes the classifier stored in `face_cascade` and takes the grayscale image as a parameter.  \n",
    "\n",
    "In the above code, `faces` is a numpy array of detected faces, where each row corresponds to a detected face.  Each detected face is a 1D array with four entries that specifies the bounding box of the detected face.  The first two entries in the array (extracted in the above code as `x` and `y`) specify the horizontal and vertical positions of the top left corner of the bounding box.  The last two entries in the array (extracted here as `w` and `h`) specify the width and height of the box.\n",
    "\n",
    "### Write a Human Face Detector\n",
    "\n",
    "We can use this procedure to write a function that returns `True` if a human face is detected in an image and `False` otherwise.  This function, aptly named `face_detector`, takes a string-valued file path to an image as input and appears in the code block below."
   ]
  },
  {
   "cell_type": "code",
   "execution_count": 10,
   "metadata": {
    "autoscroll": false,
    "ein.hycell": false,
    "ein.tags": "worksheet-0",
    "slideshow": {
     "slide_type": "-"
    }
   },
   "outputs": [],
   "source": [
    "def face_detector(img_path):\n",
    "    \"\"\"\"returns True if face is detected in image stored at img_path\"\"\"\n",
    "    img = cv2.imread(img_path)\n",
    "    gray = cv2.cvtColor(img, cv2.COLOR_BGR2GRAY)\n",
    "    faces = face_cascade.detectMultiScale(gray)\n",
    "    return len(faces) > 0"
   ]
  },
  {
   "cell_type": "markdown",
   "metadata": {
    "ein.tags": "worksheet-0",
    "slideshow": {
     "slide_type": "-"
    }
   },
   "source": [
    "### (IMPLEMENTATION) Assess the Human Face Detector\n",
    "\n",
    "__Question 1:__ Use the code cell below to test the performance of the `face_detector` function.  \n",
    "- What percentage of the first 100 images in `human_files` have a detected human face?  \n",
    "- What percentage of the first 100 images in `dog_files` have a detected human face? \n",
    "\n",
    "Ideally, we would like 100% of human images with a detected face and 0% of dog images with a detected face.  You will see that our algorithm falls short of this goal, but still gives acceptable performance.  We extract the file paths for the first 100 images from each of the datasets and store them in the numpy arrays `human_files_short` and `dog_files_short`."
   ]
  },
  {
   "cell_type": "markdown",
   "metadata": {
    "ein.tags": "worksheet-0",
    "slideshow": {
     "slide_type": "-"
    }
   },
   "source": [
    "__Answer:__ \n",
    "See output below."
   ]
  },
  {
   "cell_type": "code",
   "execution_count": 20,
   "metadata": {
    "autoscroll": false,
    "ein.hycell": false,
    "ein.tags": "worksheet-0",
    "slideshow": {
     "slide_type": "-"
    }
   },
   "outputs": [],
   "source": [
    "from tqdm import tqdm\n",
    "from tabulate import tabulate\n",
    "\n",
    "human_files_short = human_files[:100]\n",
    "dog_files_short = dog_files[:100]\n",
    "\n",
    "#-#-# Do NOT modify the code above this line. #-#-#"
   ]
  },
  {
   "cell_type": "code",
   "execution_count": 12,
   "metadata": {
    "autoscroll": false,
    "ein.hycell": false,
    "ein.tags": "worksheet-0",
    "slideshow": {
     "slide_type": "-"
    }
   },
   "outputs": [
    {
     "data": {
      "text/plain": [
       "{'Cavalier king charles spaniel',\n",
       " 'Chesapeake bay retriever',\n",
       " 'Glen of imaal terrier'}"
      ]
     },
     "execution_count": 12,
     "metadata": {},
     "output_type": "execute_result"
    }
   ],
   "source": [
    "set([\" \".join(filename.name.split(\"_\")[:-1]) for filename in dog_files_short])"
   ]
  },
  {
   "cell_type": "markdown",
   "metadata": {
    "ein.tags": "worksheet-0",
    "slideshow": {
     "slide_type": "-"
    }
   },
   "source": [
    "I'm going to re-do this again with `dlib` so I'll make a function to answer the question of percentages and add an f1 score to make it a little easier to compare them."
   ]
  },
  {
   "cell_type": "code",
   "execution_count": 13,
   "metadata": {
    "autoscroll": false,
    "ein.hycell": false,
    "ein.tags": "worksheet-0",
    "slideshow": {
     "slide_type": "-"
    }
   },
   "outputs": [],
   "source": [
    "def species_scorer(predictor: callable,\n",
    "                   true_species: list,\n",
    "                   false_species: list,\n",
    "                   labels: list) -> list:\n",
    "    \"\"\"Emit a score-table for the predictor\n",
    "\n",
    "    Args:\n",
    "     predictor: callable that returns True if it detects the expected species\n",
    "     true_species: list of images that should be matched by predictor\n",
    "     false_species: list of images that shouldn't be matched by predictor\n",
    "     labels: column labels for the table\n",
    "\n",
    "    Returns:\n",
    "     false-positive indices\n",
    "    \"\"\"\n",
    "    misses = [predictor(str(image)) for image in false_species]\n",
    "    false_positives = sum(misses)\n",
    "    true_positives = sum([predictor(str(image)) for image in true_species])\n",
    "    false_negatives = len(true_species) - true_positives\n",
    "    others = len(false_species)\n",
    "    expected = len(true_species)\n",
    "    values = (\"{:.2f}%\".format(100 * true_positives/expected),\n",
    "            \"{:.2f}%\".format(100 * false_positives/others),\n",
    "              \"{:.2f}\".format((2 * true_positives)/(2 * true_positives\n",
    "                                                    + false_positives\n",
    "                                                    + false_negatives)))\n",
    "    table = zip(labels, values)\n",
    "    print(tabulate(table, tablefmt=\"github\", headers=[\"Metric\", \"Value\"]))\n",
    "    return misses"
   ]
  },
  {
   "cell_type": "code",
   "execution_count": 21,
   "metadata": {
    "autoscroll": false,
    "ein.hycell": false,
    "ein.tags": "worksheet-0",
    "slideshow": {
     "slide_type": "-"
    }
   },
   "outputs": [],
   "source": [
    "face_scorer = partial(species_scorer,\n",
    "                      true_species=human_files_short,\n",
    "                      false_species=dog_files_short,\n",
    "                      labels=(\"First 100 images in `human_files` detected with a face\",\n",
    "                              \"First 100 images in `dog_files` detected with a face\",\n",
    "                              \"F1\"))"
   ]
  },
  {
   "cell_type": "code",
   "execution_count": 22,
   "metadata": {
    "autoscroll": false,
    "ein.hycell": false,
    "ein.tags": "worksheet-0",
    "slideshow": {
     "slide_type": "-"
    }
   },
   "outputs": [
    {
     "name": "stdout",
     "output_type": "stream",
     "text": [
      "Metric                                                  Value\n",
      "------------------------------------------------------  -------\n",
      "First 100 images in `human_files` detected with a face  99.00%\n",
      "First 100 images in `dog_files` detected with a face    9.00%\n",
      "F1                                                      0.95\n"
     ]
    }
   ],
   "source": [
    "open_cv_false_positives = face_scorer(face_detector)"
   ]
  },
  {
   "cell_type": "markdown",
   "metadata": {
    "ein.tags": "worksheet-0",
    "slideshow": {
     "slide_type": "-"
    }
   },
   "source": [
    "We suggest the face detector from OpenCV as a potential way to detect human images in your algorithm, but you are free to explore other approaches, especially approaches that make use of deep learning :).  Please use the code cell below to design and test your own face detection algorithm.  If you decide to pursue this _optional_ task, report performance on `human_files_short` and `dog_files_short`."
   ]
  },
  {
   "cell_type": "markdown",
   "metadata": {
    "ein.tags": "worksheet-0",
    "slideshow": {
     "slide_type": "-"
    }
   },
   "source": [
    "## DLIB with `face_recognition`"
   ]
  },
  {
   "cell_type": "markdown",
   "metadata": {
    "ein.tags": "worksheet-0",
    "slideshow": {
     "slide_type": "-"
    }
   },
   "source": [
    "This face detector uses [=face_recognition=](https://github.com/ageitgey/face_recognition), a python interface to [dlib's](http://dlib.net/) facial recognition code."
   ]
  },
  {
   "cell_type": "markdown",
   "metadata": {
    "ein.tags": "worksheet-0",
    "slideshow": {
     "slide_type": "-"
    }
   },
   "source": [
    "### Testing It with An Image"
   ]
  },
  {
   "cell_type": "markdown",
   "metadata": {
    "ein.tags": "worksheet-0",
    "slideshow": {
     "slide_type": "-"
    }
   },
   "source": [
    "I created the `detect_faces` and `add_bounding_boxes` functions so that I can re-use `detect_faces` later for the dlib version of the `face_detector` function."
   ]
  },
  {
   "cell_type": "code",
   "execution_count": 23,
   "metadata": {
    "autoscroll": false,
    "ein.hycell": false,
    "ein.tags": "worksheet-0",
    "slideshow": {
     "slide_type": "-"
    }
   },
   "outputs": [],
   "source": [
    "def detect_faces(image_path: str) -> numpy.ndarray:\n",
    "    \"\"\"Finds the locations of faces\n",
    "    \n",
    "    Args:\n",
    "     image_path: path to the image\n",
    "        \n",
    "    Returns:\n",
    "     array of bounding box coordinates for the face(s)\n",
    "    \"\"\"\n",
    "    image = face_recognition.load_image_file(str(image_path))\n",
    "    return face_recognition.face_locations(image)"
   ]
  },
  {
   "cell_type": "code",
   "execution_count": 24,
   "metadata": {
    "autoscroll": false,
    "ein.hycell": false,
    "ein.tags": "worksheet-0",
    "slideshow": {
     "slide_type": "-"
    }
   },
   "outputs": [],
   "source": [
    "def add_bounding_boxes(image_path: str,\n",
    "                       axe: matplotlib.axes.Axes) -> None:\n",
    "    \"\"\"Adds patches to the current matplotlib figure\n",
    "    \n",
    "    Args:\n",
    "     image_path: path to the image file\n",
    "     axe: axes to add the rectangle to\n",
    "    \"\"\"\n",
    "    for (top, right, bottom, left) in detect_faces(image_path):\n",
    "        width = right - left\n",
    "        height = top - bottom\n",
    "        rectangle = matplotlib.patches.Rectangle((top, right), width, height,\n",
    "                                      fill=False)\n",
    "        axe.add_patch(rectangle)\n",
    "    return    "
   ]
  },
  {
   "cell_type": "code",
   "execution_count": 25,
   "metadata": {
    "autoscroll": false,
    "ein.hycell": false,
    "ein.tags": "worksheet-0",
    "slideshow": {
     "slide_type": "-"
    }
   },
   "outputs": [
    {
     "data": {
      "image/png": "[encoded data removed]",
      "text/plain": [
       "<Figure size 576x432 with 1 Axes>"
      ]
     },
     "metadata": {},
     "output_type": "display_data"
    }
   ],
   "source": [
    "figure, axe = pyplot.subplots()\n",
    "human = human_files[0]\n",
    "name = \" \".join(human.name.split(\"_\")[:-1])\n",
    "image = matplotlib.image.imread(human)\n",
    "figure.suptitle(\"dlib Face Recognition Bounding-Box ({})\".format(name),\n",
    "                weight='bold')\n",
    "add_bounding_boxes(human, axe)\n",
    "axe.tick_params(dict(axis=\"both\",\n",
    "                     which=\"both\",\n",
    "                     bottom=False,\n",
    "                     top=False))\n",
    "axe.get_xaxis().set_ticks([])\n",
    "axe.get_yaxis().set_ticks([])\n",
    "        \n",
    "plot = axe.imshow(image)"
   ]
  },
  {
   "cell_type": "markdown",
   "metadata": {
    "ein.tags": "worksheet-0",
    "slideshow": {
     "slide_type": "-"
    }
   },
   "source": [
    "### Test the performance"
   ]
  },
  {
   "cell_type": "code",
   "execution_count": 26,
   "metadata": {
    "autoscroll": false,
    "ein.hycell": false,
    "ein.tags": "worksheet-0",
    "slideshow": {
     "slide_type": "-"
    }
   },
   "outputs": [],
   "source": [
    "def has_face(image_path: str) -> bool:\n",
    "    \"\"\"Checks if there is at least one face in the image\n",
    "\n",
    "    Args:\n",
    "     image_path: path to the image file\n",
    "\n",
    "    Returns:\n",
    "     True if there's at least one face in the image\n",
    "    \"\"\"\n",
    "    return len(detect_faces(image_path)) > 0"
   ]
  },
  {
   "cell_type": "code",
   "execution_count": 27,
   "metadata": {
    "autoscroll": false,
    "ein.hycell": false,
    "ein.tags": "worksheet-0",
    "slideshow": {
     "slide_type": "-"
    }
   },
   "outputs": [
    {
     "name": "stdout",
     "output_type": "stream",
     "text": [
      "Metric                                                  Value\n",
      "------------------------------------------------------  -------\n",
      "First 100 images in `human_files` detected with a face  100.00%\n",
      "First 100 images in `dog_files` detected with a face    17.00%\n",
      "F1                                                      0.92\n"
     ]
    }
   ],
   "source": [
    "dlib_false_positives = face_scorer(has_face)"
   ]
  },
  {
   "cell_type": "markdown",
   "metadata": {
    "ein.tags": "worksheet-0",
    "slideshow": {
     "slide_type": "-"
    }
   },
   "source": [
    "The DLIB version did slightly better in recognizing the humans as humans, but it also had more false positives so it did about the same overall. Although I didn't include the time the `dlib` version is about four times slower than the `OpenCV` version, so might be better in a real-time environment, on the other hand the `dlib` version is much simpler to use and so might be better if speed isn't a factor or recall is more important than precision."
   ]
  },
  {
   "cell_type": "markdown",
   "metadata": {
    "ein.tags": "worksheet-0",
    "slideshow": {
     "slide_type": "-"
    }
   },
   "source": [
    "---\n",
    "<a id='step2'></a>\n",
    "## Step 2: Detect Dogs\n",
    "\n",
    "In this section, we use a [pre-trained model](http://pytorch.org/docs/master/torchvision/models.html) to detect dogs in images.  \n",
    "\n",
    "### Obtain Pre-trained VGG-16 Model\n",
    "\n",
    "The code cell below downloads the VGG-16 model, along with weights that have been trained on [ImageNet](http://www.image-net.org/), a very large, very popular dataset used for image classification and other vision tasks.  ImageNet contains over 10 million URLs, each linking to an image containing an object from one of [1000 categories](https://gist.github.com/yrevar/942d3a0ac09ec9e5eb3a).  "
   ]
  },
  {
   "cell_type": "code",
   "execution_count": 28,
   "metadata": {
    "autoscroll": false,
    "ein.hycell": false,
    "ein.tags": "worksheet-0",
    "slideshow": {
     "slide_type": "-"
    }
   },
   "outputs": [],
   "source": [
    "import torch\n",
    "import torchvision.models as models"
   ]
  },
  {
   "cell_type": "code",
   "execution_count": 29,
   "metadata": {
    "autoscroll": false,
    "ein.hycell": false,
    "ein.tags": "worksheet-0",
    "slideshow": {
     "slide_type": "-"
    }
   },
   "outputs": [],
   "source": [
    "# define VGG16 model\n",
    "VGG16 = models.vgg16(pretrained=True)"
   ]
  },
  {
   "cell_type": "code",
   "execution_count": 30,
   "metadata": {
    "autoscroll": false,
    "ein.hycell": false,
    "ein.tags": "worksheet-0",
    "slideshow": {
     "slide_type": "-"
    }
   },
   "outputs": [],
   "source": [
    "# move model to GPU if CUDA is available\n",
    "if use_cuda:\n",
    "    VGG16 = VGG16.cuda()\n",
    "    MODELS.append(VGG16)"
   ]
  },
  {
   "cell_type": "markdown",
   "metadata": {
    "ein.tags": "worksheet-0",
    "slideshow": {
     "slide_type": "-"
    }
   },
   "source": [
    "Given an image, this pre-trained VGG-16 model returns a prediction (derived from the 1000 possible categories in ImageNet) for the object that is contained in the image."
   ]
  },
  {
   "cell_type": "markdown",
   "metadata": {
    "ein.tags": "worksheet-0",
    "slideshow": {
     "slide_type": "-"
    }
   },
   "source": [
    "### (IMPLEMENTATION) Making Predictions with a Pre-trained Model\n",
    "\n",
    "In the next code cell, you will write a function that accepts a path to an image (such as `'dogImages/train/001.Affenpinscher/Affenpinscher_00001.jpg'`) as input and returns the index corresponding to the ImageNet class that is predicted by the pre-trained VGG-16 model.  The output should always be an integer between 0 and 999, inclusive.\n",
    "\n",
    "Before writing the function, make sure that you take the time to learn  how to appropriately pre-process tensors for pre-trained models in the [PyTorch documentation](http://pytorch.org/docs/stable/torchvision/models.html)."
   ]
  },
  {
   "cell_type": "markdown",
   "metadata": {
    "ein.tags": "worksheet-0",
    "slideshow": {
     "slide_type": "-"
    }
   },
   "source": [
    "### Transforms"
   ]
  },
  {
   "cell_type": "markdown",
   "metadata": {
    "ein.tags": "worksheet-0",
    "slideshow": {
     "slide_type": "-"
    }
   },
   "source": [
    "The VGG model expects a 244x244 image ([Very Deep Convolutional Networks for Large-Scale Image Recognition](https://arxiv.org/abs/1409.1556)) and according to the [pytorch documentation](https://pytorch.org/docs/stable/torchvision/models.html) all the pre-trained models have means `[0.485, 0.456, 0.406]` and standard deviations `[0.229, 0.224, 0.225]` so the images need to be transformed accordingly. The `MEANS` and `DEVIATIONS` lists are defined in the constants section at the top of the document along with the `VGG_IMAGE_SIZE`."
   ]
  },
  {
   "cell_type": "code",
   "execution_count": 31,
   "metadata": {
    "autoscroll": false,
    "ein.hycell": false,
    "ein.tags": "worksheet-0",
    "slideshow": {
     "slide_type": "-"
    }
   },
   "outputs": [],
   "source": [
    "vgg_transform = transforms.Compose([transforms.Resize(255),\n",
    "                                    transforms.CenterCrop(VGG_IMAGE_SIZE),\n",
    "                                    transforms.ToTensor(),\n",
    "                                    transforms.Normalize(MEANS,\n",
    "                                                         DEVIATIONS)])"
   ]
  },
  {
   "cell_type": "markdown",
   "metadata": {
    "ein.tags": "worksheet-0",
    "slideshow": {
     "slide_type": "-"
    }
   },
   "source": [
    "Since I'm going to use the Inception-v3 network later on I'm going to create a generic function first and then use it to build separate predictor functions. "
   ]
  },
  {
   "cell_type": "code",
   "execution_count": 32,
   "metadata": {
    "autoscroll": false,
    "ein.hycell": false,
    "ein.tags": "worksheet-0",
    "slideshow": {
     "slide_type": "-"
    }
   },
   "outputs": [],
   "source": [
    "def model_predict(image_path: str, model: nn.Module,\n",
    "                  transform: transforms.Compose) -> int:\n",
    "    \"\"\"Predicts the class of item in image\n",
    "\n",
    "    Args:\n",
    "     image_path: path to the image to check\n",
    "     model: model to make the prediction\n",
    "     transform: callable to convert the image to a tensor\n",
    "\n",
    "    Returns:\n",
    "     index corresponding to the model's prediction\n",
    "    \"\"\"\n",
    "    image = Image.open(str(image_path))\n",
    "    image = transform(image).unsqueeze(0).to(device)\n",
    "    output = model(image)\n",
    "    probabilities = torch.exp(output)\n",
    "    _, top_class = probabilities.topk(1, dim=1)\n",
    "    return top_class.item()    "
   ]
  },
  {
   "cell_type": "code",
   "execution_count": 33,
   "metadata": {
    "autoscroll": false,
    "ein.hycell": false,
    "ein.tags": "worksheet-0",
    "slideshow": {
     "slide_type": "-"
    }
   },
   "outputs": [],
   "source": [
    "VGG16_predict = partial(model_predict, model=VGG16, transform=vgg_transform)"
   ]
  },
  {
   "cell_type": "markdown",
   "metadata": {
    "ein.tags": "worksheet-0",
    "slideshow": {
     "slide_type": "-"
    }
   },
   "source": [
    "### (IMPLEMENTATION) Write a Dog Detector\n",
    "\n",
    "While looking at the [dictionary](https://gist.github.com/yrevar/942d3a0ac09ec9e5eb3a), you will notice that the categories corresponding to dogs appear in an uninterrupted sequence and correspond to dictionary keys 151-268, inclusive, to include all categories from `'Chihuahua'` to `'Mexican hairless'`.  Thus, in order to check to see if an image is predicted to contain a dog by the pre-trained VGG-16 model, we need only check if the pre-trained model predicts an index between 151 and 268 (inclusive).\n",
    "\n",
    "Use these ideas to complete the `dog_detector` function below, which returns `True` if a dog is detected in an image (and `False` if not)."
   ]
  },
  {
   "cell_type": "code",
   "execution_count": 35,
   "metadata": {
    "autoscroll": false,
    "ein.hycell": false,
    "ein.tags": "worksheet-0",
    "slideshow": {
     "slide_type": "-"
    }
   },
   "outputs": [],
   "source": [
    "def dog_detector(img_path: str, predictor: callable=VGG16_predict) -> bool:\n",
    "    \"\"\"Predicts if the image is a dog\n",
    "\n",
    "    Args:\n",
    "     img_path: path to image file\n",
    "     predictor: callable that maps the image to an ID\n",
    "    \n",
    "    Returns:\n",
    "     is-dog: True if the image contains a dog\n",
    "    \"\"\"\n",
    "    return DOG_LOWER < predictor(img_path) < DOG_UPPER"
   ]
  },
  {
   "cell_type": "markdown",
   "metadata": {
    "ein.tags": "worksheet-0",
    "slideshow": {
     "slide_type": "-"
    }
   },
   "source": [
    "### (IMPLEMENTATION) Assess the Dog Detector\n",
    "\n",
    "__Question 2:__ Use the code cell below to test the performance of your `dog_detector` function.  \n",
    "- What percentage of the images in `human_files_short` have a detected dog?  \n",
    "- What percentage of the images in `dog_files_short` have a detected dog?"
   ]
  },
  {
   "cell_type": "code",
   "execution_count": 36,
   "metadata": {
    "autoscroll": false,
    "ein.hycell": false,
    "ein.tags": "worksheet-0",
    "slideshow": {
     "slide_type": "-"
    }
   },
   "outputs": [],
   "source": [
    "dog_scorer = partial(species_scorer,\n",
    "                     true_species=dog_files_short,\n",
    "                     false_species=human_files_short,\n",
    "                     labels=(\"Images in `dog_files_short` with a detected dog\",\n",
    "                             \"Images in `human_files_short with a detected dog\", \"F1\"))"
   ]
  },
  {
   "cell_type": "code",
   "execution_count": 37,
   "metadata": {
    "autoscroll": false,
    "ein.hycell": false,
    "ein.tags": "worksheet-0",
    "slideshow": {
     "slide_type": "-"
    }
   },
   "outputs": [
    {
     "name": "stdout",
     "output_type": "stream",
     "text": [
      "Metric                                            Value\n",
      "------------------------------------------------  -------\n",
      "Images in `dog_files_short` with a detected dog   100.00%\n",
      "Images in `human_files_short with a detected dog  1.00%\n",
      "F1                                                1.00\n"
     ]
    }
   ],
   "source": [
    "false_dogs = dog_scorer(dog_detector)"
   ]
  },
  {
   "cell_type": "markdown",
   "metadata": {
    "ein.tags": "worksheet-0",
    "slideshow": {
     "slide_type": "-"
    }
   },
   "source": [
    "The VGG model didn't miss any dogs but it misclassified 1% of the humans as dogs."
   ]
  },
  {
   "cell_type": "markdown",
   "metadata": {
    "ein.tags": "worksheet-0",
    "slideshow": {
     "slide_type": "-"
    }
   },
   "source": [
    "We suggest VGG-16 as a potential network to detect dog images in your algorithm, but you are free to explore other pre-trained networks (such as [Inception-v3](http://pytorch.org/docs/master/torchvision/models.html#inception-v3), [ResNet-50](http://pytorch.org/docs/master/torchvision/models.html#id3), etc).  Please use the code cell below to test other pre-trained PyTorch models.  If you decide to pursue this _optional_ task, report performance on `human_files_short` and `dog_files_short`."
   ]
  },
  {
   "cell_type": "markdown",
   "metadata": {
    "ein.tags": "worksheet-0",
    "slideshow": {
     "slide_type": "-"
    }
   },
   "source": [
    "## Inception Dog Detector"
   ]
  },
  {
   "cell_type": "code",
   "execution_count": 38,
   "metadata": {
    "autoscroll": false,
    "ein.hycell": false,
    "ein.tags": "worksheet-0",
    "slideshow": {
     "slide_type": "-"
    }
   },
   "outputs": [],
   "source": [
    "inception = models.inception_v3(pretrained=True)\n",
    "inception.to(device)\n",
    "MODELS.append(inception)\n",
    "inception.eval()\n",
    "pass # this is to prevent the output from dumping into the notebook"
   ]
  },
  {
   "cell_type": "markdown",
   "metadata": {
    "ein.tags": "worksheet-0",
    "slideshow": {
     "slide_type": "-"
    }
   },
   "source": [
    "I couldn't find anyplace where pytorch documents it, but if you look at [the source code](https://pytorch.org/docs/stable/_modules/torchvision/models/inception.html#inception_v3) they have a comment in the `forward` method indicating that the image needs to be *299x299x3* so they need to be transformed to a different size from the VGG images. `INCEPTION_IMAGE_SIZE` is set to `299# at the top of this document since this is shared with code that comes in a later section."
   ]
  },
  {
   "cell_type": "code",
   "execution_count": 39,
   "metadata": {
    "autoscroll": false,
    "ein.hycell": false,
    "ein.tags": "worksheet-0",
    "slideshow": {
     "slide_type": "-"
    }
   },
   "outputs": [],
   "source": [
    "inception_transforms = transforms.Compose([transforms.Resize(INCEPTION_IMAGE_SIZE),\n",
    "                                           transforms.ToTensor(),\n",
    "                                           transforms.Normalize(MEANS,\n",
    "                                                                DEVIATIONS)])"
   ]
  },
  {
   "cell_type": "code",
   "execution_count": 40,
   "metadata": {
    "autoscroll": false,
    "ein.hycell": false,
    "ein.tags": "worksheet-0",
    "slideshow": {
     "slide_type": "-"
    }
   },
   "outputs": [],
   "source": [
    "inception_predicts = partial(model_predict, model=inception, transform=inception_transforms)"
   ]
  },
  {
   "cell_type": "code",
   "execution_count": 41,
   "metadata": {
    "autoscroll": false,
    "ein.hycell": false,
    "ein.tags": "worksheet-0",
    "slideshow": {
     "slide_type": "-"
    }
   },
   "outputs": [],
   "source": [
    "inception_dog_detector = partial(dog_detector, predictor=inception_predicts)"
   ]
  },
  {
   "cell_type": "code",
   "execution_count": 42,
   "metadata": {
    "autoscroll": false,
    "ein.hycell": false,
    "ein.tags": "worksheet-0",
    "slideshow": {
     "slide_type": "-"
    }
   },
   "outputs": [
    {
     "name": "stdout",
     "output_type": "stream",
     "text": [
      "Metric                                            Value\n",
      "------------------------------------------------  -------\n",
      "Images in `dog_files_short` with a detected dog   100.00%\n",
      "Images in `human_files_short with a detected dog  0.00%\n",
      "F1                                                1.00\n"
     ]
    }
   ],
   "source": [
    "dlib_false_dogs = dog_scorer(inception_dog_detector)"
   ]
  },
  {
   "cell_type": "markdown",
   "metadata": {
    "ein.tags": "worksheet-0",
    "slideshow": {
     "slide_type": "-"
    }
   },
   "source": [
    "The inception model seems to do better than the VGG model did, but the difference was slight and we're only looking at three classes, so they are probably comparable overall."
   ]
  },
  {
   "cell_type": "markdown",
   "metadata": {
    "ein.tags": "worksheet-0",
    "slideshow": {
     "slide_type": "-"
    }
   },
   "source": [
    "---\n",
    "<a id='step3'></a>\n",
    "## Step 3: Create a CNN to Classify Dog Breeds (from Scratch)\n",
    "\n",
    "Now that we have functions for detecting humans and dogs in images, we need a way to predict breed from images.  In this step, you will create a CNN that classifies dog breeds.  You must create your CNN _from scratch_ (so, you can't use transfer learning _yet_!), and you must attain a test accuracy of at least 10%.  In Step 4 of this notebook, you will have the opportunity to use transfer learning to create a CNN that attains greatly improved accuracy.\n",
    "\n",
    "We mention that the task of assigning breed to dogs from images is considered exceptionally challenging.  To see why, consider that *even a human* would have trouble distinguishing between a Brittany and a Welsh Springer Spaniel.  \n",
    "\n",
    "Brittany | Welsh Springer Spaniel\n",
    "- | - \n",
    "<img src=\"images/Brittany_02625.jpg\" width=\"100\"> | <img src=\"images/Welsh_springer_spaniel_08203.jpg\" width=\"200\">\n",
    "\n",
    "It is not difficult to find other dog breed pairs with minimal inter-class variation (for instance, Curly-Coated Retrievers and American Water Spaniels).  \n",
    "\n",
    "Curly-Coated Retriever | American Water Spaniel\n",
    "- | -\n",
    "<img src=\"images/Curly-coated_retriever_03896.jpg\" width=\"200\"> | <img src=\"images/American_water_spaniel_00648.jpg\" width=\"200\">\n",
    "\n",
    "\n",
    "Likewise, recall that labradors come in yellow, chocolate, and black.  Your vision-based algorithm will have to conquer this high intra-class variation to determine how to classify all of these different shades as the same breed.  \n",
    "\n",
    "Yellow Labrador | Chocolate Labrador | Black Labrador\n",
    "- | -\n",
    "<img src=\"images/Labrador_retriever_06457.jpg\" width=\"150\"> | <img src=\"images/Labrador_retriever_06455.jpg\" width=\"240\"> | <img src=\"images/Labrador_retriever_06449.jpg\" width=\"220\">\n",
    "\n",
    "We also mention that random chance presents an exceptionally low bar: setting aside the fact that the classes are slightly imabalanced, a random guess will provide a correct answer roughly 1 in 133 times, which corresponds to an accuracy of less than 1%.  \n",
    "\n",
    "Remember that the practice is far ahead of the theory in deep learning.  Experiment with many different architectures, and trust your intuition.  And, of course, have fun!\n",
    "\n",
    "### (IMPLEMENTATION) Specify Data Loaders for the Dog Dataset\n",
    "\n",
    "Use the code cell below to write three separate [data loaders](http://pytorch.org/docs/stable/data.html#torch.utils.data.DataLoader) for the training, validation, and test datasets of dog images (located at `dogImages/train`, `dogImages/valid`, and `dogImages/test`, respectively).  You may find [this documentation on custom datasets](http://pytorch.org/docs/stable/torchvision/datasets.html) to be a useful resource.  If you are interested in augmenting your training and/or validation data, check out the wide variety of [transforms](http://pytorch.org/docs/stable/torchvision/transforms.html?highlight=transform)!"
   ]
  },
  {
   "cell_type": "markdown",
   "metadata": {
    "ein.tags": "worksheet-0",
    "slideshow": {
     "slide_type": "-"
    }
   },
   "source": [
    "The `SCRATCH_IMAGE_SIZE`, `MEANS`, and `DEVIATIONS` variables are defined in the constants section at the top of the notebook."
   ]
  },
  {
   "cell_type": "code",
   "execution_count": 9,
   "metadata": {
    "autoscroll": false,
    "ein.hycell": false,
    "ein.tags": "worksheet-0",
    "slideshow": {
     "slide_type": "-"
    }
   },
   "outputs": [],
   "source": [
    "train_transform = transforms.Compose([\n",
    "    transforms.RandomRotation(30),\n",
    "    transforms.RandomResizedCrop(SCRATCH_IMAGE_SIZE),\n",
    "    transforms.RandomHorizontalFlip(),\n",
    "    transforms.ToTensor(),\n",
    "    transforms.Normalize(MEANS,\n",
    "                         DEVIATIONS)])\n",
    "\n",
    "test_transform = transforms.Compose([transforms.Resize(350),\n",
    "                                     transforms.CenterCrop(SCRATCH_IMAGE_SIZE),\n",
    "                                     transforms.ToTensor(),\n",
    "                                     transforms.Normalize(MEANS,\n",
    "                                                          DEVIATIONS)])"
   ]
  },
  {
   "cell_type": "code",
   "execution_count": 10,
   "metadata": {
    "autoscroll": false,
    "ein.hycell": false,
    "ein.tags": "worksheet-0",
    "slideshow": {
     "slide_type": "-"
    }
   },
   "outputs": [],
   "source": [
    "dog_training_path = DOG_PATH.joinpath(\"train\")\n",
    "dog_validation_path = DOG_PATH.joinpath(\"valid\")\n",
    "dog_testing_path = DOG_PATH.joinpath(\"test\")"
   ]
  },
  {
   "cell_type": "code",
   "execution_count": 11,
   "metadata": {
    "autoscroll": false,
    "ein.hycell": false,
    "ein.tags": "worksheet-0",
    "slideshow": {
     "slide_type": "-"
    }
   },
   "outputs": [],
   "source": [
    "training = datasets.ImageFolder(root=str(dog_training_path),\n",
    "                                transform=train_transform)\n",
    "validation = datasets.ImageFolder(root=str(dog_validation_path),\n",
    "                                  transform=test_transform)\n",
    "testing = datasets.ImageFolder(root=str(dog_testing_path),\n",
    "                               transform=test_transform)"
   ]
  },
  {
   "cell_type": "code",
   "execution_count": 12,
   "metadata": {
    "autoscroll": false,
    "ein.hycell": false,
    "ein.tags": "worksheet-0",
    "slideshow": {
     "slide_type": "-"
    }
   },
   "outputs": [],
   "source": [
    "BATCH_SIZE = 32\n",
    "WORKERS = 0\n",
    "\n",
    "train_batches = torch.utils.data.DataLoader(training, batch_size=BATCH_SIZE,\n",
    "                                            shuffle=True, num_workers=WORKERS)\n",
    "validation_batches = torch.utils.data.DataLoader(\n",
    "    validation, batch_size=BATCH_SIZE, shuffle=True, num_workers=WORKERS)\n",
    "test_batches = torch.utils.data.DataLoader(\n",
    "    testing, batch_size=BATCH_SIZE, shuffle=True, num_workers=WORKERS)\n",
    "\n",
    "loaders_scratch = dict(train=train_batches,\n",
    "                       validation=validation_batches,\n",
    "                       test=test_batches)"
   ]
  },
  {
   "cell_type": "markdown",
   "metadata": {
    "ein.tags": "worksheet-0",
    "slideshow": {
     "slide_type": "-"
    }
   },
   "source": [
    "**Question 3:** Describe your chosen procedure for preprocessing the data. \n",
    "- How does your code resize the images (by cropping, stretching, etc)?  What size did you pick for the input tensor, and why?\n",
    "- Did you decide to augment the dataset?  If so, how (through translations, flips, rotations, etc)?  If not, why not?"
   ]
  },
  {
   "cell_type": "markdown",
   "metadata": {
    "ein.tags": "worksheet-0",
    "slideshow": {
     "slide_type": "-"
    }
   },
   "source": [
    "**Answer**:\n",
    "- The training images are resized by cropping them, while the testing images are resized by scaling then cropping them. The size I chose for the images was 299 pixels so that I can reuse them with an Inception V3 network in the next section.\n",
    "\n",
    "- The training was augmented using rotation, cropping, and horizontal flipping."
   ]
  },
  {
   "cell_type": "markdown",
   "metadata": {
    "ein.tags": "worksheet-0",
    "slideshow": {
     "slide_type": "-"
    }
   },
   "source": [
    "### (IMPLEMENTATION) Model Architecture\n",
    "\n",
    "Create a CNN to classify dog breed.  Use the template in the code cell below."
   ]
  },
  {
   "cell_type": "code",
   "execution_count": 13,
   "metadata": {
    "autoscroll": false,
    "ein.hycell": false,
    "ein.tags": "worksheet-0",
    "slideshow": {
     "slide_type": "-"
    }
   },
   "outputs": [
    {
     "name": "stdout",
     "output_type": "stream",
     "text": [
      "There are 133 breeds.\n"
     ]
    }
   ],
   "source": [
    "BREEDS = len(training.classes)\n",
    "print(\"There are {} breeds.\".format(BREEDS))"
   ]
  },
  {
   "cell_type": "code",
   "execution_count": 14,
   "metadata": {
    "autoscroll": false,
    "ein.hycell": false,
    "ein.tags": "worksheet-0",
    "slideshow": {
     "slide_type": "-"
    }
   },
   "outputs": [],
   "source": [
    "LAYER_ONE_IN = 3\n",
    "LAYER_ONE_OUT = 16\n",
    "LAYER_TWO_OUT = LAYER_ONE_OUT * 2\n",
    "LAYER_THREE_OUT = LAYER_TWO_OUT * 2\n",
    "FLATTEN_TO = (SCRATCH_IMAGE_SIZE//8)**2 * LAYER_THREE_OUT\n",
    "FULLY_CONNECTED_OUT = int(str(FLATTEN_TO)[:3])//100 * 100\n",
    "KERNEL = 3\n",
    "PADDING = 1"
   ]
  },
  {
   "cell_type": "code",
   "execution_count": 15,
   "metadata": {
    "autoscroll": false,
    "ein.hycell": false,
    "ein.tags": "worksheet-0",
    "slideshow": {
     "slide_type": "-"
    }
   },
   "outputs": [],
   "source": [
    "import torch.nn as nn\n",
    "import torch.nn.functional as F"
   ]
  },
  {
   "cell_type": "code",
   "execution_count": 16,
   "metadata": {
    "autoscroll": false,
    "ein.hycell": false,
    "ein.tags": "worksheet-0",
    "slideshow": {
     "slide_type": "-"
    }
   },
   "outputs": [],
   "source": [
    "class Net(nn.Module):\n",
    "    def __init__(self):\n",
    "        super().__init__()\n",
    "        self.conv1 = nn.Conv2d(LAYER_ONE_IN, LAYER_ONE_OUT,\n",
    "                               KERNEL, padding=PADDING)\n",
    "        self.conv2 = nn.Conv2d(LAYER_ONE_OUT, LAYER_TWO_OUT,\n",
    "                               KERNEL, padding=PADDING)\n",
    "        self.conv3 = nn.Conv2d(LAYER_TWO_OUT, LAYER_THREE_OUT,\n",
    "                               KERNEL, padding=PADDING)\n",
    "        # max pooling layer\n",
    "        self.pool = nn.MaxPool2d(2, 2)\n",
    "        # linear layer\n",
    "        self.fc1 = nn.Linear(FLATTEN_TO, FULLY_CONNECTED_OUT)\n",
    "        self.fc2 = nn.Linear(FULLY_CONNECTED_OUT, BREEDS)\n",
    "        # dropout layer\n",
    "        self.dropout = nn.Dropout(0.25)\n",
    "        return\n",
    "    \n",
    "    def forward(self, x):\n",
    "        x = self.pool(F.relu(self.conv1(x)))\n",
    "        x = self.pool(F.relu(self.conv2(x)))\n",
    "        x = self.pool(F.relu(self.conv3(x)))\n",
    "\n",
    "        x = x.view(-1, FLATTEN_TO)\n",
    "        x = self.dropout(x)\n",
    "\n",
    "        x = self.dropout(F.relu(self.fc1(x)))\n",
    "        return self.fc2(x)\n",
    "#-#-# You so NOT have to modify the code below this line. #-#-#\n",
    "\n",
    "# instantiate the CNN\n",
    "model_scratch = Net()\n",
    "\n",
    "# move tensors to GPU if CUDA is available\n",
    "if use_cuda:\n",
    "    model_scratch.cuda()\n",
    "    MODELS.append(model_scratch)"
   ]
  },
  {
   "cell_type": "markdown",
   "metadata": {
    "ein.tags": "worksheet-0",
    "slideshow": {
     "slide_type": "-"
    }
   },
   "source": [
    "__Question 4:__ Outline the steps you took to get to your final CNN architecture and your reasoning at each step.  "
   ]
  },
  {
   "cell_type": "markdown",
   "metadata": {
    "ein.tags": "worksheet-0",
    "slideshow": {
     "slide_type": "-"
    }
   },
   "source": [
    "__Answer:__ "
   ]
  },
  {
   "cell_type": "markdown",
   "metadata": {
    "ein.tags": "worksheet-0",
    "slideshow": {
     "slide_type": "-"
    }
   },
   "source": [
    "It was largely trial and error, copying what we did in the CIFAR problem. I chose (somewhat arbitrarily) three convolutional layers, since two layers didn't seem to do very well. Each convolutional layer doubles the depth while halving the height and width (using MaxPool).\n",
    "\n",
    "I then flattened the layer to transition from the convolutional layers to the fully-connected layers. I added a fully-connected layer which has 500 outputs - a rough rounding of the number of input weights of the flattened layer down to the nearest 100th. There wasn't any magic to the number, I just wanted a transition from the large flattened layer to the final output layer and when I was experimenting with larger values I was running out of memory and since this isn't the intended final model I tried to keep it modest.\n",
    "\n",
    "To reduce the likelihood of overfitting I applied dropout to the activation layers (except the final one). Finally, at each of the layers (except the final output layer) I applied ReLU activation to make the model non-linear."
   ]
  },
  {
   "cell_type": "markdown",
   "metadata": {
    "ein.tags": "worksheet-0",
    "slideshow": {
     "slide_type": "-"
    }
   },
   "source": [
    "### (IMPLEMENTATION) Specify Loss Function and Optimizer\n",
    "\n",
    "Use the next code cell to specify a [loss function](http://pytorch.org/docs/stable/nn.html#loss-functions) and [optimizer](http://pytorch.org/docs/stable/optim.html).  Save the chosen loss function as `criterion_scratch`, and the optimizer as `optimizer_scratch` below."
   ]
  },
  {
   "cell_type": "code",
   "execution_count": 17,
   "metadata": {
    "autoscroll": false,
    "ein.hycell": false,
    "ein.tags": "worksheet-0",
    "slideshow": {
     "slide_type": "-"
    }
   },
   "outputs": [],
   "source": [
    "import torch.optim as optimizer\n",
    "\n",
    "criterion_scratch = nn.CrossEntropyLoss()\n",
    "optimizer_scratch = optimizer.SGD(model_scratch.parameters(),\n",
    "                                  lr=0.001,\n",
    "                                  momentum=0.9)"
   ]
  },
  {
   "cell_type": "markdown",
   "metadata": {
    "ein.tags": "worksheet-0",
    "slideshow": {
     "slide_type": "-"
    }
   },
   "source": [
    "### (IMPLEMENTATION) Train and Validate the Model\n",
    "\n",
    "Train and validate your model in the code cell below.  [Save the final model parameters](http://pytorch.org/docs/master/notes/serialization.html) at filepath `'model_scratch.pt'`."
   ]
  },
  {
   "cell_type": "code",
   "execution_count": 18,
   "metadata": {
    "autoscroll": false,
    "ein.hycell": false,
    "ein.tags": "worksheet-0",
    "slideshow": {
     "slide_type": "-"
    }
   },
   "outputs": [],
   "source": [
    "def train(n_epochs, loaders, model, optimizer, criterion, use_cuda, save_path,\n",
    "          print_function: callable=print,\n",
    "          is_inception: bool=False):\n",
    "    \"\"\"Trains the model\n",
    "\n",
    "    Args:\n",
    "     n_epochs: the number of times to repeat training\n",
    "     loaders: dict of data batch-loaders\n",
    "     model: the model to train\n",
    "     optimizer: the gradient descent object\n",
    "     criterion: The object to calculate the loss\n",
    "     use_cuda: boolean to decide whether to move the data to the GPU\n",
    "     save_path: path to file to save best model to\n",
    "     print_function: something to pass output to\n",
    "     is_inception: if True, expect a tuple of tensors as the model output\n",
    "    \"\"\"\n",
    "    # initialize tracker for minimum validation loss\n",
    "    valid_loss_min = np.Inf\n",
    "    \n",
    "    # check the keys are right so you don't waste an entire epoch to find out\n",
    "    training_batches = loaders[\"train\"]\n",
    "    validation_batches = loaders[\"validation\"]\n",
    "    started = datetime.now()\n",
    "    print_function(\"Training Started: {}\".format(started))\n",
    "    for epoch in range(1, n_epochs+1):\n",
    "        # initialize variables to monitor training and validation loss\n",
    "        epoch_started = datetime.now()\n",
    "        train_loss = 0.0\n",
    "        valid_loss = 0.0\n",
    "        \n",
    "        ###################\n",
    "        # train the model #\n",
    "        ###################\n",
    "        model.train()\n",
    "        for data, target in training_batches:\n",
    "            # move to GPU\n",
    "            if use_cuda:\n",
    "                data, target = data.cuda(), target.cuda()\n",
    "            optimizer.zero_grad()\n",
    "            if is_inception:\n",
    "                output, _ = model(data)\n",
    "            else:\n",
    "                output = model(data)\n",
    "            loss = criterion(output, target)\n",
    "            loss.backward()\n",
    "            optimizer.step()\n",
    "            train_loss += loss.item() * data.size(0)\n",
    "        train_loss /= len(training_batches.dataset)\n",
    "\n",
    "        ######################    \n",
    "        # validate the model #\n",
    "        ######################\n",
    "        model.eval()\n",
    "        for data, target in validation_batches:\n",
    "            # move to GPU\n",
    "            if use_cuda:\n",
    "                data, target = data.cuda(), target.cuda()\n",
    "            output = model(data)\n",
    "            loss = criterion(output, target)\n",
    "            valid_loss += loss.item() * data.size(0)\n",
    "        valid_loss /= len(validation_batches.dataset)\n",
    "        print_function('Epoch: {} \\tTraining Loss: {:.6f} \\tValidation Loss: {:.6f}\\tElapsed: {}'.format(\n",
    "            epoch,                     \n",
    "            train_loss,\n",
    "            valid_loss,\n",
    "            datetime.now() - epoch_started,\n",
    "            ))\n",
    "        \n",
    "        if valid_loss < valid_loss_min:\n",
    "            print_function(\n",
    "                (\"Validation loss decreased ({:.6f} --> {:.6f}). \"\n",
    "                 \"Saving model ...\").format(\n",
    "                     valid_loss_min,\n",
    "                     valid_loss))\n",
    "            torch.save(model.state_dict(), save_path)\n",
    "            valid_loss_min = valid_loss\n",
    "    ended = datetime.now()\n",
    "    print_function(\"Training Ended: {}\".format(ended))\n",
    "    print_function(\"Total Training Time: {}\".format(ended - started))            \n",
    "    return model"
   ]
  },
  {
   "cell_type": "markdown",
   "metadata": {
    "ein.tags": "worksheet-0",
    "slideshow": {
     "slide_type": "-"
    }
   },
   "source": [
    "### Tee"
   ]
  },
  {
   "cell_type": "markdown",
   "metadata": {
    "ein.tags": "worksheet-0",
    "slideshow": {
     "slide_type": "-"
    }
   },
   "source": [
    "I found out the hard way that Jupyter loses the ability to re-connect to a running cell if you close and re-open the tab, so if you do close it you will have lost all your output. This is something to make sure it gets saved to a file."
   ]
  },
  {
   "cell_type": "code",
   "execution_count": 19,
   "metadata": {
    "autoscroll": false,
    "ein.hycell": false,
    "ein.tags": "worksheet-0",
    "slideshow": {
     "slide_type": "-"
    }
   },
   "outputs": [],
   "source": [
    "class Tee:\n",
    "    \"\"\"Save the input to a file and print it\n",
    "\n",
    "    Args:\n",
    "     log_name: name to give the log    \n",
    "     directory_path: path to the directory for the file\n",
    "    \"\"\"\n",
    "    def __init__(self, log_name: str, \n",
    "                 directory_name: str=\"~/logs/dog-breed-classifier\") -> None:\n",
    "        self.directory_name = directory_name\n",
    "        self.log_name = log_name\n",
    "        self._path = None\n",
    "        self._log = None\n",
    "        return\n",
    "\n",
    "    @property\n",
    "    def path(self) -> Path:\n",
    "        \"\"\"path to the log-file\"\"\"\n",
    "        if self._path is None:\n",
    "            self._path = Path(self.directory_name).expanduser()\n",
    "            assert self._path.is_dir()\n",
    "            self._path = self._path.joinpath(self.log_name)\n",
    "        return self._path\n",
    "\n",
    "    @property\n",
    "    def log(self):\n",
    "        \"\"\"File object to write log to\"\"\"\n",
    "        if self._log is None:\n",
    "            self._log = self.path.open(\"w\", buffering=1)\n",
    "        return self._log\n",
    "\n",
    "    def __call__(self, line: str) -> None:\n",
    "        \"\"\"Writes to the file and stdout\n",
    "\n",
    "        Args:\n",
    "         line: text to emit\n",
    "        \"\"\"\n",
    "        self.log.write(\"{}\\n\".format(line))\n",
    "        print(line)\n",
    "        return"
   ]
  },
  {
   "cell_type": "markdown",
   "metadata": {
    "ein.tags": "worksheet-0",
    "slideshow": {
     "slide_type": "-"
    }
   },
   "source": [
    "## Train the Model"
   ]
  },
  {
   "cell_type": "code",
   "execution_count": 20,
   "metadata": {
    "autoscroll": false,
    "ein.hycell": false,
    "ein.tags": "worksheet-0",
    "slideshow": {
     "slide_type": "-"
    }
   },
   "outputs": [],
   "source": [
    "scratch_path = MODEL_PATH.joinpath(\"model_scratch.pt\")\n",
    "scratch_log = Tee(log_name=\"scratch_train.log\")"
   ]
  },
  {
   "cell_type": "code",
   "execution_count": 21,
   "metadata": {
    "autoscroll": false,
    "ein.hycell": false,
    "ein.tags": "worksheet-0",
    "slideshow": {
     "slide_type": "-"
    }
   },
   "outputs": [],
   "source": [
    "EPOCHS = 100"
   ]
  },
  {
   "cell_type": "code",
   "execution_count": 22,
   "metadata": {
    "autoscroll": false,
    "ein.hycell": false,
    "ein.tags": "worksheet-0",
    "slideshow": {
     "slide_type": "-"
    }
   },
   "outputs": [
    {
     "name": "stdout",
     "output_type": "stream",
     "text": [
      "Training Started: 2019-01-07 00:17:48.769216\n",
      "Epoch: 1 \tTraining Loss: 4.877051 \tValidation Loss: 4.841412\tElapsed: 0:03:13.834452\n",
      "Validation loss decreased (inf --> 4.841412). Saving model ...\n",
      "Epoch: 2 \tTraining Loss: 4.820985 \tValidation Loss: 4.747336\tElapsed: 0:03:01.535938\n",
      "Validation loss decreased (4.841412 --> 4.747336). Saving model ...\n",
      "Epoch: 3 \tTraining Loss: 4.767189 \tValidation Loss: 4.684055\tElapsed: 0:03:01.574621\n",
      "Validation loss decreased (4.747336 --> 4.684055). Saving model ...\n",
      "Epoch: 4 \tTraining Loss: 4.728553 \tValidation Loss: 4.607475\tElapsed: 0:03:02.878120\n",
      "Validation loss decreased (4.684055 --> 4.607475). Saving model ...\n",
      "Epoch: 5 \tTraining Loss: 4.643230 \tValidation Loss: 4.515298\tElapsed: 0:03:01.719175\n",
      "Validation loss decreased (4.607475 --> 4.515298). Saving model ...\n",
      "Epoch: 6 \tTraining Loss: 4.601643 \tValidation Loss: 4.451782\tElapsed: 0:03:02.711892\n",
      "Validation loss decreased (4.515298 --> 4.451782). Saving model ...\n",
      "Epoch: 7 \tTraining Loss: 4.563049 \tValidation Loss: 4.390049\tElapsed: 0:03:02.421659\n",
      "Validation loss decreased (4.451782 --> 4.390049). Saving model ...\n",
      "Epoch: 8 \tTraining Loss: 4.525313 \tValidation Loss: 4.401180\tElapsed: 0:03:00.623633\n",
      "Epoch: 9 \tTraining Loss: 4.494441 \tValidation Loss: 4.316231\tElapsed: 0:03:03.307759\n",
      "Validation loss decreased (4.390049 --> 4.316231). Saving model ...\n",
      "Epoch: 10 \tTraining Loss: 4.462459 \tValidation Loss: 4.309952\tElapsed: 0:03:01.247355\n",
      "Validation loss decreased (4.316231 --> 4.309952). Saving model ...\n",
      "Epoch: 11 \tTraining Loss: 4.440028 \tValidation Loss: 4.282603\tElapsed: 0:03:01.817202\n",
      "Validation loss decreased (4.309952 --> 4.282603). Saving model ...\n",
      "Epoch: 12 \tTraining Loss: 4.408276 \tValidation Loss: 4.256291\tElapsed: 0:03:02.940067\n",
      "Validation loss decreased (4.282603 --> 4.256291). Saving model ...\n",
      "Epoch: 13 \tTraining Loss: 4.382314 \tValidation Loss: 4.230955\tElapsed: 0:03:01.484585\n",
      "Validation loss decreased (4.256291 --> 4.230955). Saving model ...\n",
      "Epoch: 14 \tTraining Loss: 4.339535 \tValidation Loss: 4.178119\tElapsed: 0:03:01.819115\n",
      "Validation loss decreased (4.230955 --> 4.178119). Saving model ...\n",
      "Epoch: 15 \tTraining Loss: 4.314611 \tValidation Loss: 4.172305\tElapsed: 0:03:01.862936\n",
      "Validation loss decreased (4.178119 --> 4.172305). Saving model ...\n",
      "Epoch: 16 \tTraining Loss: 4.294925 \tValidation Loss: 4.179273\tElapsed: 0:03:02.859107\n",
      "Epoch: 17 \tTraining Loss: 4.269919 \tValidation Loss: 4.121323\tElapsed: 0:03:02.187248\n",
      "Validation loss decreased (4.172305 --> 4.121323). Saving model ...\n",
      "Epoch: 18 \tTraining Loss: 4.229653 \tValidation Loss: 4.078084\tElapsed: 0:03:02.005417\n",
      "Validation loss decreased (4.121323 --> 4.078084). Saving model ...\n",
      "Epoch: 19 \tTraining Loss: 4.211623 \tValidation Loss: 4.075537\tElapsed: 0:03:02.023912\n",
      "Validation loss decreased (4.078084 --> 4.075537). Saving model ...\n",
      "Epoch: 20 \tTraining Loss: 4.176366 \tValidation Loss: 4.071403\tElapsed: 0:03:02.443931\n",
      "Validation loss decreased (4.075537 --> 4.071403). Saving model ...\n",
      "Epoch: 21 \tTraining Loss: 4.162033 \tValidation Loss: 4.060058\tElapsed: 0:03:01.880442\n",
      "Validation loss decreased (4.071403 --> 4.060058). Saving model ...\n",
      "Epoch: 22 \tTraining Loss: 4.152350 \tValidation Loss: 4.017785\tElapsed: 0:03:02.961102\n",
      "Validation loss decreased (4.060058 --> 4.017785). Saving model ...\n",
      "Epoch: 23 \tTraining Loss: 4.126623 \tValidation Loss: 4.061260\tElapsed: 0:03:02.727963\n",
      "Epoch: 24 \tTraining Loss: 4.099212 \tValidation Loss: 3.992973\tElapsed: 0:03:01.699973\n",
      "Validation loss decreased (4.017785 --> 3.992973). Saving model ...\n",
      "Epoch: 25 \tTraining Loss: 4.075190 \tValidation Loss: 3.998641\tElapsed: 0:03:01.713804\n",
      "Epoch: 26 \tTraining Loss: 4.046143 \tValidation Loss: 3.997265\tElapsed: 0:03:02.571748\n",
      "Epoch: 27 \tTraining Loss: 4.043575 \tValidation Loss: 3.949613\tElapsed: 0:03:01.425152\n",
      "Validation loss decreased (3.992973 --> 3.949613). Saving model ...\n",
      "Epoch: 28 \tTraining Loss: 4.015487 \tValidation Loss: 3.961522\tElapsed: 0:03:02.782270\n",
      "Epoch: 29 \tTraining Loss: 3.998070 \tValidation Loss: 3.948969\tElapsed: 0:03:02.048881\n",
      "Validation loss decreased (3.949613 --> 3.948969). Saving model ...\n",
      "Epoch: 30 \tTraining Loss: 3.991606 \tValidation Loss: 3.938675\tElapsed: 0:03:02.713836\n",
      "Validation loss decreased (3.948969 --> 3.938675). Saving model ...\n",
      "Epoch: 31 \tTraining Loss: 3.963830 \tValidation Loss: 3.918792\tElapsed: 0:03:01.697762\n",
      "Validation loss decreased (3.938675 --> 3.918792). Saving model ...\n",
      "Epoch: 32 \tTraining Loss: 3.930790 \tValidation Loss: 3.897582\tElapsed: 0:03:01.460303\n",
      "Validation loss decreased (3.918792 --> 3.897582). Saving model ...\n",
      "Epoch: 33 \tTraining Loss: 3.896765 \tValidation Loss: 3.963304\tElapsed: 0:03:02.224769\n",
      "Epoch: 34 \tTraining Loss: 3.879835 \tValidation Loss: 3.893857\tElapsed: 0:03:02.983978\n",
      "Validation loss decreased (3.897582 --> 3.893857). Saving model ...\n",
      "Epoch: 35 \tTraining Loss: 3.888119 \tValidation Loss: 3.900615\tElapsed: 0:03:02.187086\n",
      "Epoch: 36 \tTraining Loss: 3.839318 \tValidation Loss: 3.884181\tElapsed: 0:03:02.805424\n",
      "Validation loss decreased (3.893857 --> 3.884181). Saving model ...\n",
      "Epoch: 37 \tTraining Loss: 3.814765 \tValidation Loss: 3.863985\tElapsed: 0:03:03.838610\n",
      "Validation loss decreased (3.884181 --> 3.863985). Saving model ...\n",
      "Epoch: 38 \tTraining Loss: 3.801056 \tValidation Loss: 3.873780\tElapsed: 0:03:03.033119\n",
      "Epoch: 39 \tTraining Loss: 3.797330 \tValidation Loss: 3.827120\tElapsed: 0:03:02.329334\n",
      "Validation loss decreased (3.863985 --> 3.827120). Saving model ...\n",
      "Epoch: 40 \tTraining Loss: 3.776431 \tValidation Loss: 3.852023\tElapsed: 0:03:03.616306\n",
      "Epoch: 41 \tTraining Loss: 3.747829 \tValidation Loss: 3.814612\tElapsed: 0:03:03.231390\n",
      "Validation loss decreased (3.827120 --> 3.814612). Saving model ...\n",
      "Epoch: 42 \tTraining Loss: 3.713182 \tValidation Loss: 3.811580\tElapsed: 0:03:00.355972\n",
      "Validation loss decreased (3.814612 --> 3.811580). Saving model ...\n",
      "Epoch: 43 \tTraining Loss: 3.705967 \tValidation Loss: 3.811339\tElapsed: 0:03:11.512757\n",
      "Validation loss decreased (3.811580 --> 3.811339). Saving model ...\n",
      "Epoch: 44 \tTraining Loss: 3.677942 \tValidation Loss: 3.763790\tElapsed: 0:03:06.798942\n",
      "Validation loss decreased (3.811339 --> 3.763790). Saving model ...\n",
      "Epoch: 45 \tTraining Loss: 3.670521 \tValidation Loss: 3.804585\tElapsed: 0:03:09.111308\n",
      "Epoch: 46 \tTraining Loss: 3.616001 \tValidation Loss: 3.791811\tElapsed: 0:03:07.913439\n",
      "Epoch: 47 \tTraining Loss: 3.605779 \tValidation Loss: 3.818132\tElapsed: 0:03:08.180969\n",
      "Epoch: 48 \tTraining Loss: 3.578845 \tValidation Loss: 3.802942\tElapsed: 0:03:07.502958\n",
      "Epoch: 49 \tTraining Loss: 3.569269 \tValidation Loss: 3.763015\tElapsed: 0:03:08.838610\n",
      "Validation loss decreased (3.763790 --> 3.763015). Saving model ...\n",
      "Epoch: 50 \tTraining Loss: 3.551981 \tValidation Loss: 3.727734\tElapsed: 0:03:07.301504\n",
      "Validation loss decreased (3.763015 --> 3.727734). Saving model ...\n",
      "Epoch: 51 \tTraining Loss: 3.539640 \tValidation Loss: 3.763292\tElapsed: 0:03:08.697944\n",
      "Epoch: 52 \tTraining Loss: 3.514974 \tValidation Loss: 3.789170\tElapsed: 0:03:07.824023\n",
      "Epoch: 53 \tTraining Loss: 3.478333 \tValidation Loss: 3.730328\tElapsed: 0:03:08.594196\n",
      "Epoch: 54 \tTraining Loss: 3.474018 \tValidation Loss: 3.710677\tElapsed: 0:03:08.306823\n",
      "Validation loss decreased (3.727734 --> 3.710677). Saving model ...\n",
      "Epoch: 55 \tTraining Loss: 3.455741 \tValidation Loss: 3.666004\tElapsed: 0:03:07.551808\n",
      "Validation loss decreased (3.710677 --> 3.666004). Saving model ...\n",
      "Epoch: 56 \tTraining Loss: 3.385648 \tValidation Loss: 3.755735\tElapsed: 0:03:07.685431\n",
      "Epoch: 57 \tTraining Loss: 3.391713 \tValidation Loss: 3.739904\tElapsed: 0:03:09.560812\n",
      "Epoch: 58 \tTraining Loss: 3.385832 \tValidation Loss: 3.679237\tElapsed: 0:03:07.951572\n",
      "Epoch: 59 \tTraining Loss: 3.345478 \tValidation Loss: 3.698172\tElapsed: 0:03:07.605253\n",
      "Epoch: 61 \tTraining Loss: 3.329898 \tValidation Loss: 3.687313\tElapsed: 0:03:06.961018\n",
      "Epoch: 62 \tTraining Loss: 3.332215 \tValidation Loss: 3.722676\tElapsed: 0:03:08.430620\n",
      "Epoch: 63 \tTraining Loss: 3.290568 \tValidation Loss: 3.698964\tElapsed: 0:03:08.096713\n",
      "Epoch: 64 \tTraining Loss: 3.308631 \tValidation Loss: 3.693485\tElapsed: 0:03:06.612021\n",
      "Epoch: 65 \tTraining Loss: 3.242924 \tValidation Loss: 3.676528\tElapsed: 0:03:02.644056\n",
      "Epoch: 66 \tTraining Loss: 3.210221 \tValidation Loss: 3.672967\tElapsed: 0:03:02.000280\n"
     ]
    },
    {
     "name": "stdout",
     "output_type": "stream",
     "text": [
      "Epoch: 67 \tTraining Loss: 3.248309 \tValidation Loss: 3.700498\tElapsed: 0:03:02.847392\n",
      "Epoch: 68 \tTraining Loss: 3.186689 \tValidation Loss: 3.672294\tElapsed: 0:03:04.354137\n",
      "Epoch: 69 \tTraining Loss: 3.148231 \tValidation Loss: 3.709312\tElapsed: 0:03:05.193586\n",
      "Epoch: 70 \tTraining Loss: 3.167838 \tValidation Loss: 3.735657\tElapsed: 0:03:04.797756\n",
      "Epoch: 71 \tTraining Loss: 3.154821 \tValidation Loss: 3.683042\tElapsed: 0:03:07.263391\n",
      "Epoch: 72 \tTraining Loss: 3.151534 \tValidation Loss: 3.803930\tElapsed: 0:03:02.779610\n",
      "Epoch: 73 \tTraining Loss: 3.157296 \tValidation Loss: 3.690141\tElapsed: 0:03:05.410248\n",
      "Epoch: 74 \tTraining Loss: 3.101250 \tValidation Loss: 3.771072\tElapsed: 0:03:03.327209\n",
      "Epoch: 75 \tTraining Loss: 3.052344 \tValidation Loss: 3.676567\tElapsed: 0:03:01.068909\n",
      "Epoch: 76 \tTraining Loss: 3.043009 \tValidation Loss: 3.728986\tElapsed: 0:03:01.663287\n",
      "Epoch: 77 \tTraining Loss: 3.035244 \tValidation Loss: 3.787941\tElapsed: 0:03:02.757887\n",
      "Epoch: 78 \tTraining Loss: 3.024287 \tValidation Loss: 3.795896\tElapsed: 0:03:01.845504\n",
      "Epoch: 79 \tTraining Loss: 2.992325 \tValidation Loss: 3.716417\tElapsed: 0:03:02.454654\n",
      "Epoch: 80 \tTraining Loss: 2.985272 \tValidation Loss: 3.665017\tElapsed: 0:03:01.616717\n",
      "Validation loss decreased (3.666004 --> 3.665017). Saving model ...\n",
      "Epoch: 81 \tTraining Loss: 2.972644 \tValidation Loss: 3.750383\tElapsed: 0:03:02.581951\n",
      "Epoch: 82 \tTraining Loss: 2.948319 \tValidation Loss: 3.790278\tElapsed: 0:03:02.529694\n",
      "Epoch: 83 \tTraining Loss: 2.955792 \tValidation Loss: 3.807737\tElapsed: 0:03:02.909021\n",
      "Epoch: 84 \tTraining Loss: 2.953483 \tValidation Loss: 3.884490\tElapsed: 0:03:00.926423\n",
      "Epoch: 85 \tTraining Loss: 2.907973 \tValidation Loss: 3.876141\tElapsed: 0:03:01.702236\n",
      "Epoch: 86 \tTraining Loss: 2.886144 \tValidation Loss: 3.806277\tElapsed: 0:03:02.415406\n",
      "Epoch: 87 \tTraining Loss: 2.895160 \tValidation Loss: 3.768452\tElapsed: 0:03:02.365341\n",
      "Epoch: 88 \tTraining Loss: 2.878172 \tValidation Loss: 3.794703\tElapsed: 0:03:01.910776\n",
      "Epoch: 89 \tTraining Loss: 2.850065 \tValidation Loss: 3.784806\tElapsed: 0:03:01.821389\n",
      "Epoch: 90 \tTraining Loss: 2.808656 \tValidation Loss: 3.834159\tElapsed: 0:03:02.931420\n",
      "Epoch: 91 \tTraining Loss: 2.807267 \tValidation Loss: 3.879032\tElapsed: 0:03:01.804976\n",
      "Epoch: 92 \tTraining Loss: 2.773044 \tValidation Loss: 3.779162\tElapsed: 0:03:03.069339\n",
      "Epoch: 93 \tTraining Loss: 2.787731 \tValidation Loss: 3.912086\tElapsed: 0:03:01.484451\n",
      "Epoch: 94 \tTraining Loss: 2.741030 \tValidation Loss: 3.782457\tElapsed: 0:03:01.528688\n",
      "Epoch: 95 \tTraining Loss: 2.777800 \tValidation Loss: 3.873816\tElapsed: 0:03:02.658232\n",
      "Epoch: 96 \tTraining Loss: 2.748137 \tValidation Loss: 3.923467\tElapsed: 0:03:01.510292\n",
      "Epoch: 97 \tTraining Loss: 2.725654 \tValidation Loss: 3.989069\tElapsed: 0:03:02.315783\n",
      "Epoch: 98 \tTraining Loss: 2.723776 \tValidation Loss: 3.946343\tElapsed: 0:03:01.279152\n",
      "Epoch: 99 \tTraining Loss: 2.662464 \tValidation Loss: 3.885177\tElapsed: 0:03:02.807385\n",
      "Epoch: 100 \tTraining Loss: 2.714636 \tValidation Loss: 3.916170\tElapsed: 0:03:01.294095\n",
      "Training Ended: 2019-01-07 05:24:48.263423\n",
      "Total Training Time: 5:06:59.494207\n"
     ]
    }
   ],
   "source": [
    "model_scratch = train(EPOCHS, loaders_scratch, model_scratch, optimizer_scratch, \n",
    "                      criterion_scratch, use_cuda, scratch_path, print_function=scratch_log)"
   ]
  },
  {
   "cell_type": "markdown",
   "metadata": {
    "ein.tags": "worksheet-0",
    "slideshow": {
     "slide_type": "-"
    }
   },
   "source": [
    "## load the model that got the best validation accuracy"
   ]
  },
  {
   "cell_type": "code",
   "execution_count": 23,
   "metadata": {
    "autoscroll": false,
    "ein.hycell": false,
    "ein.tags": "worksheet-0",
    "slideshow": {
     "slide_type": "-"
    }
   },
   "outputs": [],
   "source": [
    "model_scratch.load_state_dict(torch.load(scratch_path))"
   ]
  },
  {
   "cell_type": "markdown",
   "metadata": {
    "ein.tags": "worksheet-0",
    "slideshow": {
     "slide_type": "-"
    }
   },
   "source": [
    "### (IMPLEMENTATION) Test the Model\n",
    "\n",
    "Try out your model on the test dataset of dog images.  Use the code cell below to calculate and print the test loss and accuracy.  Ensure that your test accuracy is greater than 10%."
   ]
  },
  {
   "cell_type": "code",
   "execution_count": 24,
   "metadata": {
    "autoscroll": false,
    "ein.hycell": false,
    "ein.tags": "worksheet-0",
    "slideshow": {
     "slide_type": "-"
    }
   },
   "outputs": [],
   "source": [
    "def test(loaders, model, criterion, use_cuda, print_function=print):\n",
    "\n",
    "    # monitor test loss and accuracy\n",
    "    test_loss = 0.\n",
    "    correct = 0.\n",
    "    total = 0.\n",
    "\n",
    "    model.eval()\n",
    "    for batch_idx, (data, target) in enumerate(loaders['test']):\n",
    "        # move to GPU\n",
    "        if use_cuda:\n",
    "            data, target = data.cuda(), target.cuda()\n",
    "        # forward pass: compute predicted outputs by passing inputs to the model\n",
    "        output = model(data)\n",
    "        # calculate the loss\n",
    "        loss = criterion(output, target)\n",
    "        # update average test loss \n",
    "        test_loss = test_loss + ((1 / (batch_idx + 1)) * (loss.data - test_loss))\n",
    "        # convert output probabilities to predicted class\n",
    "        pred = output.data.max(1, keepdim=True)[1]\n",
    "        # compare predictions to true label\n",
    "        correct += np.sum(np.squeeze(pred.eq(target.data.view_as(pred))).cpu().numpy())\n",
    "        total += data.size(0)\n",
    "            \n",
    "    print_function('Test Loss: {:.6f}\\n'.format(test_loss))\n",
    "\n",
    "    print_function('\\nTest Accuracy: %2d%% (%2d/%2d)' % (\n",
    "        100. * correct / total, correct, total))"
   ]
  },
  {
   "cell_type": "code",
   "execution_count": 25,
   "metadata": {},
   "outputs": [],
   "source": [
    "scratch_test_log = Tee(\"scratch_test.log\")"
   ]
  },
  {
   "cell_type": "code",
   "execution_count": null,
   "metadata": {
    "autoscroll": false,
    "ein.hycell": false,
    "ein.tags": "worksheet-0",
    "slideshow": {
     "slide_type": "-"
    }
   },
   "outputs": [
    {
     "name": "stdout",
     "output_type": "stream",
     "text": [
      "Test Loss: 3.611238\n",
      "\n",
      "\n",
      "Test Accuracy: 17% (149/836)\n"
     ]
    }
   ],
   "source": [
    "# call test function    \n",
    "test(loaders_scratch, model_scratch, criterion_scratch, use_cuda, print_function=scratch_test_log)"
   ]
  },
  {
   "cell_type": "markdown",
   "metadata": {
    "ein.tags": "worksheet-0",
    "slideshow": {
     "slide_type": "-"
    }
   },
   "source": [
    "---\n",
    "<a id='step4'></a>\n",
    "## Step 4: Create a CNN to Classify Dog Breeds (using Transfer Learning)\n",
    "\n",
    "You will now use transfer learning to create a CNN that can identify dog breed from images.  Your CNN must attain at least 60% accuracy on the test set.\n",
    "\n",
    "### (IMPLEMENTATION) Specify Data Loaders for the Dog Dataset\n",
    "\n",
    "Use the code cell below to write three separate [data loaders](http://pytorch.org/docs/master/data.html#torch.utils.data.DataLoader) for the training, validation, and test datasets of dog images (located at `dogImages/train`, `dogImages/valid`, and `dogImages/test`, respectively). \n",
    "\n",
    "If you like, **you are welcome to use the same data loaders from the previous step**, when you created a CNN from scratch."
   ]
  },
  {
   "cell_type": "code",
   "execution_count": null,
   "metadata": {
    "autoscroll": false,
    "ein.hycell": false,
    "ein.tags": "worksheet-0",
    "slideshow": {
     "slide_type": "-"
    }
   },
   "outputs": [],
   "source": [
    " loaders_transfer = loaders_scratch"
   ]
  },
  {
   "cell_type": "markdown",
   "metadata": {
    "ein.tags": "worksheet-0",
    "slideshow": {
     "slide_type": "-"
    }
   },
   "source": [
    "### (IMPLEMENTATION) Model Architecture\n",
    "\n",
    "Use transfer learning to create a CNN to classify dog breed.  Use the code cell below, and save your initialized model as the variable `model_transfer`."
   ]
  },
  {
   "cell_type": "markdown",
   "metadata": {
    "ein.tags": "worksheet-0",
    "slideshow": {
     "slide_type": "-"
    }
   },
   "source": [
    "#### The Transfer Model"
   ]
  },
  {
   "cell_type": "code",
   "execution_count": null,
   "metadata": {
    "autoscroll": false,
    "ein.hycell": false,
    "ein.tags": "worksheet-0",
    "slideshow": {
     "slide_type": "-"
    }
   },
   "outputs": [],
   "source": [
    "model_transfer = models.inception_v3(pretrained=True)\n",
    "for parameter in model_transfer.parameters():\n",
    "    parameter.requires_grad = False\n",
    "classifier_inputs = model_transfer.fc.in_features\n",
    "model_transfer.fc = nn.Linear(in_features=classifier_inputs,\n",
    "                              out_features=BREEDS,\n",
    "                              bias=True)\n",
    "model_transfer.to(device)\n",
    "MODELS.append(model_transfer)"
   ]
  },
  {
   "cell_type": "markdown",
   "metadata": {
    "ein.tags": "worksheet-0",
    "slideshow": {
     "slide_type": "-"
    }
   },
   "source": [
    "__Question 5:__ Outline the steps you took to get to your final CNN architecture and your reasoning at each step.  Describe why you think the architecture is suitable for the current problem."
   ]
  },
  {
   "cell_type": "markdown",
   "metadata": {
    "ein.tags": "worksheet-0",
    "slideshow": {
     "slide_type": "-"
    }
   },
   "source": [
    "__Answer:__ \n",
    "\n",
    "I looked at the [source code](https://pytorch.org/docs/stable/_modules/torchvision/models/inception.html#inception_v3) and the string representation of the model and saw that the classification was being done by a single fully-connected (Linear) layer with 2,048 inputs and 1,000 outputs. Since we only have 133 outputs I replaced their final layer (`model.fc`) with one that had the same number of inputs but only 133 outputs.\n",
    "\n",
    "I chose the Inception V3 network because, like the VGG 16 model, it was trained on the ImageNet data-set and works to detect features in images but, as noted in [Rethinking the Inception Architecture for Computer Vision](https://www.cv-foundation.org/openaccess/content_cvpr_2016/html/Szegedy_Rethinking_the_Inception_CVPR_2016_paper.html), the Inception model requires fewer computational resources than the VGG model does, which I thought was an attractive feature. The Inception model does introduce a problem in that it uses an auxiliary classifier during training so the training function has to be modified to handle this (the output returns a tuple of tensors), but this seemed minor."
   ]
  },
  {
   "cell_type": "markdown",
   "metadata": {
    "ein.tags": "worksheet-0",
    "slideshow": {
     "slide_type": "-"
    }
   },
   "source": [
    "### (IMPLEMENTATION) Specify Loss Function and Optimizer\n",
    "\n",
    "Use the next code cell to specify a [loss function](http://pytorch.org/docs/master/nn.html#loss-functions) and [optimizer](http://pytorch.org/docs/master/optim.html).  Save the chosen loss function as `criterion_transfer`, and the optimizer as `optimizer_transfer` below."
   ]
  },
  {
   "cell_type": "code",
   "execution_count": null,
   "metadata": {
    "autoscroll": false,
    "ein.hycell": false,
    "ein.tags": "worksheet-0",
    "slideshow": {
     "slide_type": "-"
    }
   },
   "outputs": [],
   "source": [
    "criterion_transfer = nn.CrossEntropyLoss()\n",
    "optimizer_transfer = optimizer.SGD(\n",
    "    model_transfer.parameters(),\n",
    "    lr=0.001,\n",
    "    momentum=0.9)"
   ]
  },
  {
   "cell_type": "markdown",
   "metadata": {
    "ein.tags": "worksheet-0",
    "slideshow": {
     "slide_type": "-"
    }
   },
   "source": [
    "### (IMPLEMENTATION) Train and Validate the Model\n",
    "\n",
    "Train and validate your model in the code cell below.  [Save the final model parameters](http://pytorch.org/docs/master/notes/serialization.html) at filepath `'model_transfer.pt'`."
   ]
  },
  {
   "cell_type": "code",
   "execution_count": null,
   "metadata": {
    "autoscroll": false,
    "ein.hycell": false,
    "ein.tags": "worksheet-0",
    "slideshow": {
     "slide_type": "-"
    }
   },
   "outputs": [],
   "source": [
    "transfer_model_path = MODEL_PATH.joinpath(\"model_transfer.pt\")\n",
    "transfer_log = Tee(log_name=\"transfer_train.log\")"
   ]
  },
  {
   "cell_type": "code",
   "execution_count": null,
   "metadata": {
    "autoscroll": false,
    "ein.hycell": false,
    "ein.tags": "worksheet-0",
    "slideshow": {
     "slide_type": "-"
    }
   },
   "outputs": [],
   "source": [
    "EPOCHS = 100"
   ]
  },
  {
   "cell_type": "code",
   "execution_count": null,
   "metadata": {
    "autoscroll": false,
    "ein.hycell": false,
    "ein.tags": "worksheet-0",
    "slideshow": {
     "slide_type": "-"
    }
   },
   "outputs": [
    {
     "name": "stdout",
     "output_type": "stream",
     "text": [
      "Training Started: 2019-01-07 05:25:10.303990\n",
      "Epoch: 1 \tTraining Loss: 4.699307 \tValidation Loss: 4.270935\tElapsed: 0:03:18.031065\n",
      "Validation loss decreased (inf --> 4.270935). Saving model ...\n",
      "Epoch: 2 \tTraining Loss: 4.181660 \tValidation Loss: 3.670290\tElapsed: 0:03:17.966246\n",
      "Validation loss decreased (4.270935 --> 3.670290). Saving model ...\n",
      "Epoch: 3 \tTraining Loss: 3.735970 \tValidation Loss: 3.142542\tElapsed: 0:03:17.943660\n",
      "Validation loss decreased (3.670290 --> 3.142542). Saving model ...\n",
      "Epoch: 4 \tTraining Loss: 3.343428 \tValidation Loss: 2.698115\tElapsed: 0:03:18.696943\n",
      "Validation loss decreased (3.142542 --> 2.698115). Saving model ...\n",
      "Epoch: 5 \tTraining Loss: 2.995878 \tValidation Loss: 2.334530\tElapsed: 0:03:19.205373\n",
      "Validation loss decreased (2.698115 --> 2.334530). Saving model ...\n",
      "Epoch: 6 \tTraining Loss: 2.723056 \tValidation Loss: 2.033339\tElapsed: 0:03:19.099028\n",
      "Validation loss decreased (2.334530 --> 2.033339). Saving model ...\n",
      "Epoch: 7 \tTraining Loss: 2.518057 \tValidation Loss: 1.812573\tElapsed: 0:03:17.994237\n",
      "Validation loss decreased (2.033339 --> 1.812573). Saving model ...\n",
      "Epoch: 8 \tTraining Loss: 2.310053 \tValidation Loss: 1.609529\tElapsed: 0:03:16.717152\n",
      "Validation loss decreased (1.812573 --> 1.609529). Saving model ...\n",
      "Epoch: 9 \tTraining Loss: 2.166829 \tValidation Loss: 1.439860\tElapsed: 0:03:17.935079\n",
      "Validation loss decreased (1.609529 --> 1.439860). Saving model ...\n",
      "Epoch: 10 \tTraining Loss: 2.057079 \tValidation Loss: 1.292030\tElapsed: 0:03:17.791206\n",
      "Validation loss decreased (1.439860 --> 1.292030). Saving model ...\n",
      "Epoch: 11 \tTraining Loss: 1.958263 \tValidation Loss: 1.243316\tElapsed: 0:03:18.748263\n",
      "Validation loss decreased (1.292030 --> 1.243316). Saving model ...\n",
      "Epoch: 12 \tTraining Loss: 1.859445 \tValidation Loss: 1.130529\tElapsed: 0:03:17.303672\n",
      "Validation loss decreased (1.243316 --> 1.130529). Saving model ...\n",
      "Epoch: 13 \tTraining Loss: 1.799369 \tValidation Loss: 1.067557\tElapsed: 0:03:18.150230\n",
      "Validation loss decreased (1.130529 --> 1.067557). Saving model ...\n",
      "Epoch: 14 \tTraining Loss: 1.723310 \tValidation Loss: 1.018531\tElapsed: 0:03:18.394798\n",
      "Validation loss decreased (1.067557 --> 1.018531). Saving model ...\n",
      "Epoch: 15 \tTraining Loss: 1.688872 \tValidation Loss: 0.965496\tElapsed: 0:03:17.432118\n",
      "Validation loss decreased (1.018531 --> 0.965496). Saving model ...\n",
      "Epoch: 16 \tTraining Loss: 1.639950 \tValidation Loss: 0.907270\tElapsed: 0:03:17.425620\n",
      "Validation loss decreased (0.965496 --> 0.907270). Saving model ...\n",
      "Epoch: 17 \tTraining Loss: 1.576800 \tValidation Loss: 0.875295\tElapsed: 0:03:17.972938\n",
      "Validation loss decreased (0.907270 --> 0.875295). Saving model ...\n",
      "Epoch: 18 \tTraining Loss: 1.547050 \tValidation Loss: 0.824278\tElapsed: 0:03:18.100030\n",
      "Validation loss decreased (0.875295 --> 0.824278). Saving model ...\n",
      "Epoch: 19 \tTraining Loss: 1.539646 \tValidation Loss: 0.808194\tElapsed: 0:03:19.895761\n",
      "Validation loss decreased (0.824278 --> 0.808194). Saving model ...\n",
      "Epoch: 20 \tTraining Loss: 1.500094 \tValidation Loss: 0.777300\tElapsed: 0:03:18.248607\n",
      "Validation loss decreased (0.808194 --> 0.777300). Saving model ...\n",
      "Epoch: 21 \tTraining Loss: 1.478536 \tValidation Loss: 0.762025\tElapsed: 0:03:18.096901\n",
      "Validation loss decreased (0.777300 --> 0.762025). Saving model ...\n",
      "Epoch: 22 \tTraining Loss: 1.449271 \tValidation Loss: 0.745259\tElapsed: 0:03:17.565620\n",
      "Validation loss decreased (0.762025 --> 0.745259). Saving model ...\n",
      "Epoch: 23 \tTraining Loss: 1.426696 \tValidation Loss: 0.721501\tElapsed: 0:03:17.674511\n",
      "Validation loss decreased (0.745259 --> 0.721501). Saving model ...\n",
      "Epoch: 24 \tTraining Loss: 1.384365 \tValidation Loss: 0.706536\tElapsed: 0:03:18.663604\n",
      "Validation loss decreased (0.721501 --> 0.706536). Saving model ...\n",
      "Epoch: 25 \tTraining Loss: 1.352370 \tValidation Loss: 0.684035\tElapsed: 0:03:18.739320\n",
      "Validation loss decreased (0.706536 --> 0.684035). Saving model ...\n",
      "Epoch: 26 \tTraining Loss: 1.382330 \tValidation Loss: 0.680882\tElapsed: 0:03:18.504176\n",
      "Validation loss decreased (0.684035 --> 0.680882). Saving model ...\n",
      "Epoch: 27 \tTraining Loss: 1.352410 \tValidation Loss: 0.662414\tElapsed: 0:03:18.004690\n",
      "Validation loss decreased (0.680882 --> 0.662414). Saving model ...\n",
      "Epoch: 28 \tTraining Loss: 1.323105 \tValidation Loss: 0.652469\tElapsed: 0:03:17.707236\n",
      "Validation loss decreased (0.662414 --> 0.652469). Saving model ...\n",
      "Epoch: 29 \tTraining Loss: 1.321770 \tValidation Loss: 0.634052\tElapsed: 0:03:20.164878\n",
      "Validation loss decreased (0.652469 --> 0.634052). Saving model ...\n",
      "Epoch: 30 \tTraining Loss: 1.309750 \tValidation Loss: 0.638077\tElapsed: 0:03:21.737296\n",
      "Epoch: 31 \tTraining Loss: 1.307307 \tValidation Loss: 0.615018\tElapsed: 0:03:18.198152\n",
      "Validation loss decreased (0.634052 --> 0.615018). Saving model ...\n",
      "Epoch: 32 \tTraining Loss: 1.259097 \tValidation Loss: 0.618697\tElapsed: 0:03:19.649852\n",
      "Epoch: 33 \tTraining Loss: 1.276199 \tValidation Loss: 0.603413\tElapsed: 0:03:16.942841\n",
      "Validation loss decreased (0.615018 --> 0.603413). Saving model ...\n",
      "Epoch: 34 \tTraining Loss: 1.258176 \tValidation Loss: 0.589237\tElapsed: 0:03:18.103221\n",
      "Validation loss decreased (0.603413 --> 0.589237). Saving model ...\n",
      "Epoch: 35 \tTraining Loss: 1.254458 \tValidation Loss: 0.576390\tElapsed: 0:03:18.758651\n",
      "Validation loss decreased (0.589237 --> 0.576390). Saving model ...\n",
      "Epoch: 36 \tTraining Loss: 1.246464 \tValidation Loss: 0.571317\tElapsed: 0:03:17.794329\n",
      "Validation loss decreased (0.576390 --> 0.571317). Saving model ...\n",
      "Epoch: 37 \tTraining Loss: 1.227437 \tValidation Loss: 0.567114\tElapsed: 0:03:17.484424\n",
      "Validation loss decreased (0.571317 --> 0.567114). Saving model ...\n",
      "Epoch: 38 \tTraining Loss: 1.228403 \tValidation Loss: 0.557364\tElapsed: 0:03:17.744637\n",
      "Validation loss decreased (0.567114 --> 0.557364). Saving model ...\n",
      "Epoch: 39 \tTraining Loss: 1.213402 \tValidation Loss: 0.558201\tElapsed: 0:03:17.285552\n",
      "Epoch: 40 \tTraining Loss: 1.206945 \tValidation Loss: 0.557859\tElapsed: 0:03:18.132396\n",
      "Epoch: 41 \tTraining Loss: 1.193073 \tValidation Loss: 0.536087\tElapsed: 0:03:17.725738\n",
      "Validation loss decreased (0.557364 --> 0.536087). Saving model ...\n",
      "Epoch: 42 \tTraining Loss: 1.194688 \tValidation Loss: 0.536722\tElapsed: 0:03:17.683174\n",
      "Epoch: 43 \tTraining Loss: 1.179069 \tValidation Loss: 0.533558\tElapsed: 0:03:18.412587\n",
      "Validation loss decreased (0.536087 --> 0.533558). Saving model ...\n"
     ]
    }
   ],
   "source": [
    "# train the model\n",
    "model_transfer = train(EPOCHS,\n",
    "                       loaders=loaders_transfer,\n",
    "                       model=model_transfer,\n",
    "                       optimizer=optimizer_transfer,\n",
    "                       criterion=criterion_transfer,\n",
    "                       use_cuda=use_cuda,\n",
    "                       save_path=transfer_model_path,\n",
    "                       print_function=transfer_log,\n",
    "                       is_inception=True)"
   ]
  },
  {
   "cell_type": "code",
   "execution_count": null,
   "metadata": {
    "autoscroll": false,
    "ein.hycell": false,
    "ein.tags": "worksheet-0",
    "slideshow": {
     "slide_type": "-"
    }
   },
   "outputs": [],
   "source": [
    "# load the model that got the best validation accuracy (uncomment the line below)\n",
    "model_transfer.load_state_dict(torch.load(transfer_model_path))"
   ]
  },
  {
   "cell_type": "markdown",
   "metadata": {
    "ein.tags": "worksheet-0",
    "slideshow": {
     "slide_type": "-"
    }
   },
   "source": [
    "### (IMPLEMENTATION) Test the Model\n",
    "\n",
    "Try out your model on the test dataset of dog images. Use the code cell below to calculate and print the test loss and accuracy.  Ensure that your test accuracy is greater than 60%."
   ]
  },
  {
   "cell_type": "code",
   "execution_count": null,
   "metadata": {},
   "outputs": [],
   "source": [
    "transfer_test_log = Tee(\"transfer_test.log\")"
   ]
  },
  {
   "cell_type": "code",
   "execution_count": null,
   "metadata": {
    "autoscroll": false,
    "ein.hycell": false,
    "ein.tags": "worksheet-0",
    "slideshow": {
     "slide_type": "-"
    }
   },
   "outputs": [],
   "source": [
    "test(loaders_transfer, model_transfer, criterion_transfer, use_cuda, print_function=transfer_test_log)"
   ]
  },
  {
   "cell_type": "markdown",
   "metadata": {
    "ein.tags": "worksheet-0",
    "slideshow": {
     "slide_type": "-"
    }
   },
   "source": [
    "### (IMPLEMENTATION) Predict Dog Breed with the Model\n",
    "\n",
    "Write a function that takes an image path as input and returns the dog breed (`Affenpinscher`, `Afghan hound`, etc) that is predicted by your model.  "
   ]
  },
  {
   "cell_type": "code",
   "execution_count": null,
   "metadata": {
    "autoscroll": false,
    "ein.hycell": false,
    "ein.tags": "worksheet-0",
    "slideshow": {
     "slide_type": "-"
    }
   },
   "outputs": [],
   "source": [
    "class_names = [item[4:].replace(\"_\", \" \") for item in data_transfer['train'].classes]\n",
    "\n",
    "def predict_breed_transfer(img_path: str) -> str:\n",
    "    \"\"\"Predicts the dog-breed of what's in the image\n",
    "\n",
    "    Args:\n",
    "     img_path: path to the image to search\n",
    "\n",
    "    Returns:\n",
    "     the name of the dog-breed\n",
    "    \"\n",
    "    # load the image\n",
    "    image = Image.open(image_path)\n",
    "\n",
    "    # convert the image to a tensor\n",
    "    tensor = test_transform(image)\n",
    "\n",
    "    # add a batch number\n",
    "    tensor = tensor.unsqueeze_(0)\n",
    "\n",
    "    # put on the GPU or CPU\n",
    "    tensor = tensor.to(device)\n",
    "\n",
    "    # make it a variable\n",
    "    x = torch.autograd.Variable(tensor)\n",
    "\n",
    "    # make the prediction\n",
    "    output = model(x)\n",
    "    return class_names[output.data.cpu().numpy().argmax()]"
   ]
  },
  {
   "cell_type": "markdown",
   "metadata": {
    "ein.tags": "worksheet-0",
    "slideshow": {
     "slide_type": "-"
    }
   },
   "source": [
    "---\n",
    "<a id='step5'></a>\n",
    "## Step 5: Write your Algorithm\n",
    "\n",
    "Write an algorithm that accepts a file path to an image and first determines whether the image contains a human, dog, or neither.  Then,\n",
    "- if a __dog__ is detected in the image, return the predicted breed.\n",
    "- if a __human__ is detected in the image, return the resembling dog breed.\n",
    "- if __neither__ is detected in the image, provide output that indicates an error.\n",
    "\n",
    "You are welcome to write your own functions for detecting humans and dogs in images, but feel free to use the `face_detector` and `human_detector` functions developed above.  You are __required__ to use your CNN from Step 4 to predict dog breed.  \n",
    "\n",
    "Some sample output for our algorithm is provided below, but feel free to design your own user experience!\n",
    "\n",
    "![Sample Human Output](images/sample_human_output.png)\n",
    "\n",
    "\n",
    "### (IMPLEMENTATION) Write your Algorithm"
   ]
  },
  {
   "cell_type": "markdown",
   "metadata": {
    "ein.tags": "worksheet-0",
    "slideshow": {
     "slide_type": "-"
    }
   },
   "source": [
    "#### Re-Done Code"
   ]
  },
  {
   "cell_type": "markdown",
   "metadata": {
    "ein.tags": "worksheet-0",
    "slideshow": {
     "slide_type": "-"
    }
   },
   "source": [
    "I originally wrote my implementation using classes, because I kept getting errors related to the fact that jupyter lets you run cells out of order so I wanted them defined as a group (and because I find it easier to work this way once there is this much code). So I broke the parts up to answer the questions but am including them in this section to make my final solution work. Everything until the **Dog Breed Classifier** section was already implemented in the sections above using functions and global variables instead of class methods, only the **Dog Breed Classification** section and below has new implementations."
   ]
  },
  {
   "cell_type": "code",
   "execution_count": null,
   "metadata": {
    "autoscroll": false,
    "ein.hycell": false,
    "ein.tags": "worksheet-0",
    "slideshow": {
     "slide_type": "-"
    }
   },
   "outputs": [],
   "source": [
    "class Transformer:\n",
    "    \"\"\"Builds the image transformers\n",
    "\n",
    "    Args:\n",
    "     means: list of means for each channel\n",
    "     deviations: list of standard deviations for each channel\n",
    "     image_size: size to crop the image to\n",
    "    \"\"\"\n",
    "    def __init__(self,\n",
    "                 means: list=MEANS,\n",
    "                 deviations: list=DEVIATIONS,\n",
    "                 image_size: int=INCEPTION_IMAGE_SIZE) -> None:\n",
    "        self.means = means\n",
    "        self.deviations = deviations\n",
    "        self.image_size = image_size\n",
    "        self._training = None\n",
    "        self._testing = None\n",
    "        return\n",
    "\n",
    "    @property\n",
    "    def training(self) -> transforms.Compose:\n",
    "        \"\"\"The image transformers for the training\"\"\"\n",
    "        if self._training is None:\n",
    "            self._training = transforms.Compose([\n",
    "                transforms.RandomRotation(30),\n",
    "                transforms.RandomResizedCrop(self.image_size),\n",
    "                transforms.RandomHorizontalFlip(),\n",
    "                transforms.ToTensor(),\n",
    "                transforms.Normalize(self.means,\n",
    "                                     self.deviations)])\n",
    "        return self._training\n",
    "\n",
    "    @property\n",
    "    def testing(self) -> transforms.Compose:\n",
    "        \"\"\"Image transforms for the testing\"\"\"\n",
    "        if self._testing is None:\n",
    "            self._testing = transforms.Compose(\n",
    "                [transforms.Resize(350),\n",
    "                 transforms.CenterCrop(self.image_size),\n",
    "                 transforms.ToTensor(),\n",
    "                 transforms.Normalize(self.means,\n",
    "                                      self.deviations)])\n",
    "        return self._testing"
   ]
  },
  {
   "cell_type": "code",
   "execution_count": null,
   "metadata": {
    "autoscroll": false,
    "ein.hycell": false,
    "ein.tags": "worksheet-0",
    "slideshow": {
     "slide_type": "-"
    }
   },
   "outputs": [],
   "source": [
    "class DogDetector:\n",
    "    \"\"\"Detects dogs\n",
    "\n",
    "    Args:\n",
    "     model_definition: definition for the model\n",
    "     device: where to run the model (CPU or CUDA)\n",
    "     image_size: what to resize the file to (depends on the model-definition)\n",
    "     means: mean for each channel\n",
    "     deviations: standard deviation for each channel\n",
    "     dog_lower_bound: index below where dogs start\n",
    "     dog_upper_bound: index above where dogs end\n",
    "    \"\"\"\n",
    "    def __init__(self,\n",
    "                 model_definition: nn.Module=models.inception_v3,\n",
    "                 image_size: int=INCEPTION_IMAGE_SIZE,\n",
    "                 means: list=MEANS,\n",
    "                 deviations: list=DEVIATIONS,\n",
    "                 dog_lower_bound: int=DOG_LOWER,\n",
    "                 dog_upper_bound: int=DOG_UPPER,\n",
    "                 device: torch.device=None) -> None:\n",
    "        self.model_definition = model_definition\n",
    "        self.image_size = image_size\n",
    "        self.means = means\n",
    "        self.deviations = deviations\n",
    "        self.dog_lower_bound = dog_lower_bound\n",
    "        self.dog_upper_bound = dog_upper_bound\n",
    "        self._device = device\n",
    "        self._model = None\n",
    "        self._transformer = None\n",
    "        return\n",
    "\n",
    "    @property\n",
    "    def device(self) -> torch.device:\n",
    "        \"\"\"The device to add the model to\"\"\"\n",
    "        if self._device is None:\n",
    "            self._device = torch.device(\"cuda\"\n",
    "                                        if torch.cuda.is_available()\n",
    "                                        else \"cpu\")\n",
    "        return self._device\n",
    "\n",
    "    @property\n",
    "    def model(self) -> nn.Module:\n",
    "        \"\"\"Build the model\"\"\"\n",
    "        if self._model is None:\n",
    "            self._model = self.model_definition(pretrained=True)\n",
    "            self._model.to(self.device)\n",
    "            self._model.eval()\n",
    "        return self._model\n",
    "\n",
    "    @property\n",
    "    def transformer(self) -> transformer:\n",
    "        \"\"\"The transformer for the image data\"\"\"\n",
    "        if self._transformer is None:\n",
    "            self._transformer = Transformer()\n",
    "        return self._transformer\n",
    "\n",
    "    def __call__(self, image_path: str) -> bool:\n",
    "        \"\"\"Checks if there is a dog in the image\"\"\"\n",
    "        image = Image.open(str(image_path))\n",
    "        image = self.transformer.testing(image).unsqueeze(0).to(self.device)\n",
    "        output = self.model(image)\n",
    "        probabilities = torch.exp(output)\n",
    "        _, top_class = probabilities.topk(1, dim=1)\n",
    "        return self.dog_lower_bound < top_class.item() < self.dog_upper_bound"
   ]
  },
  {
   "cell_type": "code",
   "execution_count": null,
   "metadata": {
    "autoscroll": false,
    "ein.hycell": false,
    "ein.tags": "worksheet-0",
    "slideshow": {
     "slide_type": "-"
    }
   },
   "outputs": [],
   "source": [
    "class SpeciesDetector:\n",
    "    \"\"\"Detect dogs and humans\n",
    "\n",
    "    Args:\n",
    "     device: where to put the dog-detecting model\n",
    "    \"\"\"\n",
    "    def __init__(self, device: torch.device=None) -> None:\n",
    "        self.device = device\n",
    "        self._dog_detector = None\n",
    "        return\n",
    "\n",
    "    @property\n",
    "    def dog_detector(self) -> DogDetector:\n",
    "        \"\"\"Neural Network dog-detector\"\"\"\n",
    "        if self._dog_detector is None:\n",
    "            self._dog_detector = DogDetector(self.device)\n",
    "        return self._dog_detector\n",
    "\n",
    "    def is_human(self, image_path: str) -> bool:\n",
    "        \"\"\"Checks if the image is a human\n",
    "        \n",
    "        Args:\n",
    "         image_path: path to the image\n",
    "\n",
    "        Returns:\n",
    "         True if there is a human face in the image\n",
    "        \"\"\"\n",
    "        image = face_recognition.load_image_file(str(image_path))\n",
    "        faces = face_recognition.face_locations(image)\n",
    "        return len(faces) > 0\n",
    "\n",
    "    def is_dog(self, image_path: str) -> bool:        \n",
    "        \"\"\"Checks if there is a dog in the image\"\"\"\n",
    "        return self.dog_detector(image_path)"
   ]
  },
  {
   "cell_type": "code",
   "execution_count": null,
   "metadata": {
    "autoscroll": false,
    "ein.hycell": false,
    "ein.tags": "worksheet-0",
    "slideshow": {
     "slide_type": "-"
    }
   },
   "outputs": [],
   "source": [
    "class DogPaths:\n",
    "    \"\"\"holds the paths to the dog images\"\"\"\n",
    "    def __init__(self) -> None:\n",
    "        self._main = None\n",
    "        self._training = None\n",
    "        self._testing = None\n",
    "        self._validation = None\n",
    "        return\n",
    "\n",
    "    @property\n",
    "    def main(self) -> Path:\n",
    "        \"\"\"The path to the main folder\"\"\"\n",
    "        if self._main is None:\n",
    "            self._main = DOG_PATH\n",
    "        return self._main\n",
    "\n",
    "    @property\n",
    "    def training(self) -> Path:\n",
    "        \"\"\"Path to the training images\"\"\"\n",
    "        if self._training is None:\n",
    "            self._training = DOG_PATH.joinpath(\"train\")\n",
    "        return self._training\n",
    "\n",
    "    @property\n",
    "    def validation(self) -> Path:\n",
    "        \"\"\"Path to the validation images\"\"\"\n",
    "        if self._validation is None:\n",
    "            self._validation = DOG_PATH.joinpath(\"valid\")\n",
    "        return self._validation\n",
    "\n",
    "    @property\n",
    "    def testing(self) -> Path:\n",
    "        \"\"\"Path to the testing images\"\"\"\n",
    "        if self._testing is None:\n",
    "            self._testing = DOG_PATH.joinpath(\"test\")\n",
    "        return self._testing"
   ]
  },
  {
   "cell_type": "code",
   "execution_count": null,
   "metadata": {
    "autoscroll": false,
    "ein.hycell": false,
    "ein.tags": "worksheet-0",
    "slideshow": {
     "slide_type": "-"
    }
   },
   "outputs": [],
   "source": [
    "class Inception:\n",
    "    \"\"\"Sets up the model, criterion, and optimizer for the transfer learning\n",
    "\n",
    "    Args:\n",
    "     classes: number of outputs for the final layer\n",
    "     device: processor to use\n",
    "     model_path: path to a saved model\n",
    "     learning_rate: learning rate for the optimizer\n",
    "     momentum: momentum for the optimizer\n",
    "    \"\"\"\n",
    "    def __init__(self, classes: int,\n",
    "                 device: torch.device=None,\n",
    "                 model_path: str=None,\n",
    "                 learning_rate: float=0.001, momentum: float=0.9) -> None:\n",
    "        self.classes = classes\n",
    "        self.model_path = model_path\n",
    "        self.learning_rate = learning_rate\n",
    "        self.momentum = momentum\n",
    "        self._device = device\n",
    "        self._model = None\n",
    "        self._classifier_inputs = None\n",
    "        self._criterion = None\n",
    "        self._optimizer = None\n",
    "        return\n",
    "\n",
    "    @property\n",
    "    def device(self) -> torch.device:\n",
    "        \"\"\"Processor to use (cpu or cuda)\"\"\"\n",
    "        if self._device is None:\n",
    "            self._device = torch.device(\n",
    "                \"cuda\" if torch.cuda.is_available() else \"cpu\")\n",
    "        return self._device\n",
    "\n",
    "    @property\n",
    "    def model(self) -> models.inception_v3:\n",
    "        \"\"\"The inception model\"\"\"\n",
    "        if self._model is None:\n",
    "            self._model = models.inception_v3(pretrained=True)\n",
    "            for parameter in self._model.parameters():\n",
    "                parameter.requires_grad = False\n",
    "            classifier_inputs = self._model.fc.in_features\n",
    "            self._model.fc = nn.Linear(in_features=classifier_inputs,\n",
    "                                       out_features=self.classes,\n",
    "                                       bias=True)\n",
    "            self._model.to(self.device)\n",
    "            if self.model_path:\n",
    "                self._model.load_state_dict(torch.load(self.model_path))\n",
    "        return self._model\n",
    "\n",
    "    @property\n",
    "    def criterion(self) -> nn.CrossEntropyLoss:\n",
    "        \"\"\"The loss callable\"\"\"\n",
    "        if self._criterion is None:\n",
    "            self._criterion = nn.CrossEntropyLoss()\n",
    "        return self._criterion\n",
    "\n",
    "    @property\n",
    "    def optimizer(self) -> optimizer.SGD:\n",
    "        \"\"\"The Gradient Descent object\"\"\"\n",
    "        if self._optimizer is None:\n",
    "            self._optimizer = optimizer.SGD(\n",
    "                self.model.parameters(),\n",
    "                lr=self.learning_rate,\n",
    "                momentum=self.momentum)\n",
    "        return self._optimizer"
   ]
  },
  {
   "cell_type": "code",
   "execution_count": null,
   "metadata": {
    "autoscroll": false,
    "ein.hycell": false,
    "ein.tags": "worksheet-0",
    "slideshow": {
     "slide_type": "-"
    }
   },
   "outputs": [],
   "source": [
    "class DataSets:\n",
    "    \"\"\"Builds the data-sets\n",
    "\n",
    "    Args:\n",
    "     paths: object with the paths to the data-sets\n",
    "    \"\"\"\n",
    "    def __init__(self, paths: DogPaths=None, transformer: Transformer=None) -> None:\n",
    "        self._paths = paths\n",
    "        self._training_path = training_path\n",
    "        self.validation_path = validation_path\n",
    "        self.testing_path = testing_path\n",
    "        self._transformer = transformer\n",
    "        self._training = None\n",
    "        self._validation = None\n",
    "        self._testing = None\n",
    "        return\n",
    "\n",
    "    @property\n",
    "    def paths(self) -> DogPaths:\n",
    "        \"\"\"Object with the paths to the image files\"\"\"\n",
    "        if self._paths is None:\n",
    "            self._paths = DogPaths()\n",
    "        return self._paths\n",
    "\n",
    "    @property\n",
    "    def transformer(self) -> Transformer:\n",
    "        \"\"\"Object with the image transforms\"\"\"\n",
    "        if self._transformer is None:\n",
    "            self._transformer = Transformer()\n",
    "        return self._transformer\n",
    "\n",
    "    @property\n",
    "    def training(self) -> datasets.ImageFolder:\n",
    "        \"\"\"The training data set\"\"\"\n",
    "        if self._training is None:\n",
    "            self._training = datasets.ImageFolder(\n",
    "                root=self.paths.training,\n",
    "                transform=self.transformer.training)\n",
    "        return self._training\n",
    "\n",
    "    @property\n",
    "    def validation(self) -> datasets.ImageFolder:\n",
    "        \"\"\"The validation dataset\"\"\"\n",
    "        if self._validation is None:\n",
    "            self._validation = datasets.ImageFolder(\n",
    "                root=self.paths.validation),\n",
    "                transform=self.transformer.testing)\n",
    "        return self._validation\n",
    "\n",
    "    @property\n",
    "    def testing(self) -> datasets.ImageFolder:\n",
    "        \"\"\"The test set\"\"\"\n",
    "        if self._testing is None:\n",
    "            self._testing = datasets.ImageFolder(\n",
    "                root=self.paths.testing,\n",
    "                transform=self.transformer.testing)\n",
    "        return self._testing"
   ]
  },
  {
   "cell_type": "code",
   "execution_count": null,
   "metadata": {
    "autoscroll": false,
    "ein.hycell": false,
    "ein.tags": "worksheet-0",
    "slideshow": {
     "slide_type": "-"
    }
   },
   "outputs": [],
   "source": [
    "class DogPredictor:\n",
    "    \"\"\"Makes dog-breed predictions\n",
    "    \n",
    "    Args:\n",
    "     model_path: path to the model's state-dict\n",
    "     device: processor to run the model on\n",
    "     data_sets: a DataSets object\n",
    "     inception: an Inception object\n",
    "    \"\"\"\n",
    "    def __init__(self, model_path: str=None, paths:\n",
    "                 device: torch.device=None,\n",
    "                 data_sets: DataSets=None,\n",
    "                 inception: Inception=None) -> None:\n",
    "        self.model_path = model_path\n",
    "        self.device = device\n",
    "        self._data_sets = data_sets\n",
    "        self._inception = inception\n",
    "        self._breeds = None\n",
    "        return\n",
    "\n",
    "    @property\n",
    "    def data_sets(self) -> DataSets:\n",
    "        if self._data_sets is None:\n",
    "            self._data_sets = DataSets()\n",
    "        return self._data_sets\n",
    "\n",
    "    @property\n",
    "    def inception(self) -> Inception:\n",
    "        \"\"\"An Inception object\"\"\"\n",
    "        if self._inception is None:\n",
    "            self._inception = Inception(\n",
    "                classes=len(self.data_sets.training.classes),\n",
    "                model_path=self.model_path,\n",
    "                device=self.device)\n",
    "            model.eval()\n",
    "        return self._inception\n",
    "\n",
    "    @property\n",
    "    def breeds(self) -> list:\n",
    "        \"\"\"A list of dog-breeds\"\"\"\n",
    "        if self._breeds is None:\n",
    "            self._breeds = [name[4:].replace(\"_\", \" \")\n",
    "                            for name in self.data_sets.training.classes]\n",
    "        return self._breeds\n",
    "\n",
    "    def predict_index(self, image_path:str) -> int:\n",
    "        \"\"\"Predicts the index of the breed of the dog in the image\n",
    "\n",
    "        Args:\n",
    "         image_path: path to the image\n",
    "        Returns:\n",
    "         index in the breeds list for the image\n",
    "        \"\"\"\n",
    "        model = self.inception.model        \n",
    "        image = Image.open(image_path)\n",
    "        tensor = self.data_sets.transformer.testing(image)\n",
    "        # add a batch number\n",
    "        tensor = tensor.unsqueeze_(0)\n",
    "        tensor = tensor.to(self.inception.device)\n",
    "        x = torch.autograd.Variable(tensor)\n",
    "        output = model(x)\n",
    "        return output.data.cpu().numpy().argmax()\n",
    "\n",
    "    def __call__(self, image_path) -> str:\n",
    "        \"\"\"Predicts the breed of the dog in the image\n",
    "\n",
    "        Args:\n",
    "         image_path: path to the image\n",
    "        Returns:\n",
    "         name of the breed\n",
    "        \"\"\"\n",
    "        return self.breeds[self.predict_index(image_path)]"
   ]
  },
  {
   "cell_type": "markdown",
   "metadata": {
    "ein.tags": "worksheet-0",
    "slideshow": {
     "slide_type": "-"
    }
   },
   "source": [
    "## The Dog Breed Classifier"
   ]
  },
  {
   "cell_type": "markdown",
   "metadata": {
    "ein.tags": "worksheet-0",
    "slideshow": {
     "slide_type": "-"
    }
   },
   "source": [
    "This implements the dog-breed classifier using the classes immediately above."
   ]
  },
  {
   "cell_type": "code",
   "execution_count": null,
   "metadata": {
    "autoscroll": false,
    "ein.hycell": false,
    "ein.tags": "worksheet-0",
    "slideshow": {
     "slide_type": "-"
    }
   },
   "outputs": [],
   "source": [
    "class DogBreedClassifier:\n",
    "    \"\"\"Tries To predict the dog-breed for an image\n",
    "\n",
    "    Args:\n",
    "     model_path: path to the inception-model\n",
    "    \"\"\"\n",
    "    def __init__(self, model_path: str) -> None:\n",
    "        self.model_path = model_path\n",
    "        self._breed_predictor = None\n",
    "        self._species_detector = None\n",
    "        return\n",
    "\n",
    "    @property\n",
    "    def breed_predictor(self) -> DogPredictor:\n",
    "        \"\"\"Predictor of dog-breeds\"\"\"\n",
    "        if self._breed_predictor is None:\n",
    "            self._breed_predictor = DogPredictor(model_path=self.model_path)\n",
    "        return self._breed_predictor\n",
    "\n",
    "    @property\n",
    "    def species_detector(self) -> SpeciesDetector:\n",
    "        \"\"\"Detector of humans and dogs\"\"\"\n",
    "        if self._species_detector is None:\n",
    "            self._species_detector = SpeciesDetector(\n",
    "                device=self.breed_predictor.inception.device)\n",
    "        return self._species_detector\n",
    "\n",
    "    def render(self, image_path: str, species: str, breed: str) -> None:\n",
    "        \"\"\"Renders the image\n",
    "\n",
    "        Args:\n",
    "         image_path: path to the image to render\n",
    "         species: identified species\n",
    "         breed: identified breed\n",
    "        \"\"\"\n",
    "        figure, axe = pyplot.subplots()\n",
    "        figure.suptitle(species, weight=\"bold\")\n",
    "        axe.set_xlabel(breed)\n",
    "        image = Image.open(image_path)\n",
    "        axe.tick_params(dict(axis=\"both\",\n",
    "                             which=\"both\",\n",
    "                             bottom=False,\n",
    "                             top=False))\n",
    "        axe.get_xaxis().set_ticks([])\n",
    "        axe.get_yaxis().set_ticks([])\n",
    "        axe_image = axe.imshow(image)\n",
    "        return\n",
    "\n",
    "    def __call__(self, image_path:str) -> None:\n",
    "        \"\"\"detects the dog-breed and displays the image\n",
    "\n",
    "        Args:\n",
    "         image_path: path to the image\n",
    "        \"\"\"\n",
    "        is_dog = self.species_detector.is_dog(image_path)\n",
    "        is_human = self.species_detector.is_human(image_path)\n",
    "\n",
    "        if not is_dog and not is_human:\n",
    "            species = \"Error: Neither Human nor Dog\"\n",
    "            breed = \"?\"\n",
    "        else:\n",
    "            breed = self.breed_predictor(image_path)\n",
    "\n",
    "        if is_dog and is_human:\n",
    "            species = \"Human-Dog Hybrid\"\n",
    "        elif is_dog:\n",
    "            species = \"Dog\"\n",
    "        elif is_human:\n",
    "            species = \"Human\"\n",
    "        self.render(image_path, species, breed)\n",
    "        return"
   ]
  },
  {
   "cell_type": "code",
   "execution_count": null,
   "metadata": {
    "autoscroll": false,
    "ein.hycell": false,
    "ein.tags": "worksheet-0",
    "slideshow": {
     "slide_type": "-"
    }
   },
   "outputs": [],
   "source": [
    "for model in MODELS:\n",
    "    model.cpu()\n",
    "classifier = DogBreedClassifier(model_path=transfer_model_path"
   ]
  },
  {
   "cell_type": "code",
   "execution_count": null,
   "metadata": {
    "autoscroll": false,
    "ein.hycell": false,
    "ein.tags": "worksheet-0",
    "slideshow": {
     "slide_type": "-"
    }
   },
   "outputs": [],
   "source": [
    "def run_app(img_path):\n",
    "    classifier(img_path)\n",
    "    return"
   ]
  },
  {
   "cell_type": "markdown",
   "metadata": {
    "ein.tags": "worksheet-0",
    "slideshow": {
     "slide_type": "-"
    }
   },
   "source": [
    "---\n",
    "<a id='step6'></a>\n",
    "## Step 6: Test Your Algorithm\n",
    "\n",
    "In this section, you will take your new algorithm for a spin!  What kind of dog does the algorithm think that _you_ look like?  If you have a dog, does it predict your dog's breed accurately?  If you have a cat, does it mistakenly think that your cat is a dog?\n",
    "\n",
    "### (IMPLEMENTATION) Test Your Algorithm on Sample Images!\n",
    "\n",
    "Test your algorithm at least six images on your computer.  Feel free to use any images you like.  Use at least two human and two dog images.  "
   ]
  },
  {
   "cell_type": "markdown",
   "metadata": {
    "ein.tags": "worksheet-0",
    "slideshow": {
     "slide_type": "-"
    }
   },
   "source": [
    "First, I'll create a function to find species detections that were wrong."
   ]
  },
  {
   "cell_type": "code",
   "execution_count": null,
   "metadata": {
    "autoscroll": false,
    "ein.hycell": false,
    "ein.tags": "worksheet-0",
    "slideshow": {
     "slide_type": "-"
    }
   },
   "outputs": [],
   "source": [
    "def first_prediction(source: list, start:int=0, count: int=1) -> int:\n",
    "    \"\"\"Gets the index of the first True prediction\n",
    "\n",
    "    Args:\n",
    "     source: list of True/False predictions\n",
    "     start: index to start the search from\n",
    "     count: number of indices to find\n",
    "\n",
    "    Returns:\n",
    "     indices of first True predictions found\n",
    "    \"\"\"\n",
    "    indices = []\n",
    "    found = 0\n",
    "    for index, prediction in enumerate(source[start:]):\n",
    "        if prediction:\n",
    "            print(\"{}: {}\".format(start + index, prediction))\n",
    "            indices.append(index)\n",
    "            found += 1\n",
    "            if found == count:\n",
    "                break\n",
    "    return indices"
   ]
  },
  {
   "cell_type": "code",
   "execution_count": null,
   "metadata": {
    "autoscroll": false,
    "ein.hycell": false,
    "ein.tags": "worksheet-0",
    "slideshow": {
     "slide_type": "-"
    }
   },
   "outputs": [],
   "source": [
    "human_dog = first_prediction(dlib_false_positives)\n",
    "print(human_dog)"
   ]
  },
  {
   "cell_type": "code",
   "execution_count": null,
   "metadata": {
    "autoscroll": false,
    "ein.hycell": false,
    "ein.tags": "worksheet-0",
    "slideshow": {
     "slide_type": "-"
    }
   },
   "outputs": [],
   "source": [
    "dog_human = first_prediction(dlib_false_dogs)\n",
    "print(dog_human)"
   ]
  },
  {
   "cell_type": "code",
   "execution_count": null,
   "metadata": {
    "autoscroll": false,
    "ein.hycell": false,
    "ein.tags": "worksheet-0",
    "slideshow": {
     "slide_type": "-"
    }
   },
   "outputs": [],
   "source": [
    "hot_dog = \"hot_dog.jpg\"\n",
    "rabbit = \"rabbit.jpg\"\n",
    "test_images = [human_dog, dog_human, hot_dog, rabbit]"
   ]
  },
  {
   "cell_type": "code",
   "execution_count": null,
   "metadata": {
    "autoscroll": false,
    "ein.hycell": false,
    "ein.tags": "worksheet-0",
    "slideshow": {
     "slide_type": "-"
    }
   },
   "outputs": [],
   "source": [
    "dogs = numpy.random.choice(dog_files, 3)\n",
    "humans = numpy.random.choice(human_files, 3)"
   ]
  },
  {
   "cell_type": "code",
   "execution_count": null,
   "metadata": {
    "autoscroll": false,
    "ein.hycell": false,
    "ein.tags": "worksheet-0",
    "slideshow": {
     "slide_type": "-"
    }
   },
   "outputs": [],
   "source": [
    "images = numpy.hstack((dogs, humans, test_images))\n",
    "for image in images:\n",
    "    run_app(image)"
   ]
  },
  {
   "cell_type": "markdown",
   "metadata": {
    "ein.tags": "worksheet-0",
    "slideshow": {
     "slide_type": "-"
    }
   },
   "source": [
    "__Question 6:__ Is the output better than you expected :) ?  Or worse :( ?  Provide at least three possible points of improvement for your algorithm."
   ]
  },
  {
   "cell_type": "markdown",
   "metadata": {
    "ein.tags": "worksheet-0",
    "slideshow": {
     "slide_type": "-"
    }
   },
   "source": [
    "__Answer:__ (Three possible points for improvement)"
   ]
  },
  {
   "cell_type": "code",
   "execution_count": null,
   "metadata": {
    "autoscroll": false,
    "ein.hycell": false,
    "ein.tags": "worksheet-0",
    "slideshow": {
     "slide_type": "-"
    }
   },
   "outputs": [],
   "source": [
    "## TODO: Execute your algorithm from Step 6 on\n",
    "## at least 6 images on your computer.\n",
    "## Feel free to use as many code cells as needed.\n",
    "\n",
    "## suggested code, below\n",
    "for file in np.hstack((human_files[:3], dog_files[:3])):\n",
    "    run_app(file)"
   ]
  }
 ],
 "metadata": {
  "anaconda-cloud": null,
  "kernelspec": {
   "display_name": "Python 3",
   "language": "python",
   "name": "python3"
  },
  "language_info": {
   "codemirror_mode": {
    "name": "ipython",
    "version": 3
   },
   "file_extension": ".py",
   "mimetype": "text/x-python",
   "name": "python",
   "nbconvert_exporter": "python",
   "pygments_lexer": "ipython3",
   "version": "3.6.7"
  },
  "name": "dog_app.ipynb",
  "nikola": {
   "category": "Project",
   "date": "2019-01-04 11:31:18 UTC-08:00",
   "description": "Dog-Breed Classification Submission",
   "link": "",
   "slug": "dog-app",
   "tags": "cnn",
   "title": "Dog App",
   "type": "text"
  }
 },
 "nbformat": 4,
 "nbformat_minor": 1
}
